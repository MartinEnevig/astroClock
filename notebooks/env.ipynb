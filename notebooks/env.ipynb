{
 "cells": [
  {
   "cell_type": "code",
   "execution_count": 32,
   "metadata": {},
   "outputs": [],
   "source": [
    "import gym\n",
    "from gym import Env\n",
    "from gym.spaces import MultiDiscrete, Box\n",
    "\n",
    "from stable_baselines3 import PPO\n",
    "from stable_baselines3.common.vec_env import VecFrameStack, DummyVecEnv\n",
    "from stable_baselines3.common.evaluation import evaluate_policy\n",
    "from stable_baselines3.common.env_checker import check_env\n",
    "\n",
    "import numpy as np\n",
    "import os\n"
   ]
  },
  {
   "cell_type": "code",
   "execution_count": 33,
   "metadata": {},
   "outputs": [],
   "source": [
    "from __future__ import annotations\n",
    "from typing import List, Dict\n",
    "import math\n",
    "import numpy as np\n",
    " \n",
    "class Planet:\n",
    "    def __init__(self, name: str, position: np.array, trajectory: List):\n",
    "        self.name: str = name\n",
    "        self.trajectory: List = trajectory\n",
    "        self.planets: List[Planet] = []\n",
    "        self.position: np.ndarray = position\n",
    "        self.ideal_postion: np.ndarray = None\n",
    "        self.next_position: np.ndarray = None\n",
    "        self.distance_to_other_planets: List[np.ndarray] = []\n",
    "        self.current_step = 0\n",
    "        self.deviation: np.float32 = 0\n",
    "        self.distance_to_ideal_position: np.float32 = 0\n",
    "        self.distance_to_nearest_planet: np.float32 = 0\n",
    "    \n",
    "    def set_other_planets(self, other_planets: List) -> List[Planet]:\n",
    "        self.planets = other_planets\n",
    "        \n",
    "    def get_ideal_position(self):\n",
    "        ideal_position = self.trajectory[self.current_step]\n",
    "        self.ideal_postion = ideal_position\n",
    "\n",
    "    def get_direction(self):\n",
    "        raise NotImplementedError\n",
    "\n",
    "    def get_distance_to_other_planets(self) -> Dict[str, np.float32]:\n",
    "        dist_dict = {}\n",
    "        for planet in self.planets:\n",
    "            if planet.name != self.name:\n",
    "                distance = math.dist(self.position, planet.position)\n",
    "                dist_dict[planet.name] = distance\n",
    "        return dist_dict\n",
    "\n",
    "    def get_next_position(self, action) -> np.ndarray:\n",
    "        deviation = self.get_deviation(action)\n",
    "        if self.deviation < 10:\n",
    "            self.deviation += deviation\n",
    "\n",
    "        if self.current_step==119:\n",
    "            self.current_step = 118\n",
    "        next_y: np.float32 = self.trajectory[self.current_step+1][1] + self.deviation\n",
    "        next_position = np.array([self.current_step+1, next_y], dtype=np.float32)\n",
    "        return next_position\n",
    "\n",
    "    def update_current_step(self):\n",
    "        self.current_step = self.current_step + 1\n",
    "    \n",
    "    def get_deviation(self, action: int) -> np.float32:\n",
    "        if action==1:\n",
    "            deviation = -0.1\n",
    "        elif action==2:\n",
    "            deviation = 0.1\n",
    "        else:\n",
    "            deviation = 0\n",
    "        return deviation\n",
    "\n",
    "    def get_distance_to_ideal_position(self) -> np.float32:\n",
    "        self.get_ideal_position()\n",
    "        distance: np.float32 = math.dist(self.position, self.ideal_postion)\n",
    "        return distance\n",
    "\n",
    "    def update_position(self, action):\n",
    "        self.position = self.get_next_position(action)\n",
    "    \n"
   ]
  },
  {
   "cell_type": "code",
   "execution_count": null,
   "metadata": {},
   "outputs": [],
   "source": []
  },
  {
   "attachments": {},
   "cell_type": "markdown",
   "metadata": {},
   "source": [
    "### Creating trajectories"
   ]
  },
  {
   "cell_type": "code",
   "execution_count": 34,
   "metadata": {},
   "outputs": [],
   "source": [
    "def get_point(x: float, h: float, w: float) -> np.array:\n",
    "    root_number = 1-(x**2/w**2)\n",
    "    if root_number < 0:\n",
    "        root_number*-1\n",
    "        y = h*np.sqrt(root_number)\n",
    "        return np.array([x, -y])\n",
    "    else:\n",
    "        y = h*np.sqrt(root_number)\n",
    "        return np.array([x, y]) "
   ]
  },
  {
   "cell_type": "code",
   "execution_count": 35,
   "metadata": {},
   "outputs": [],
   "source": [
    "h_1 = 5\n",
    "w_1 = 30\n",
    "trajectory_1 = []\n",
    "for i in range(-30,31):\n",
    "    trajectory_1.append(get_point(x=i, h=h_1, w=w_1))\n",
    "\n",
    "trajectory_earth = trajectory_1.copy()\n",
    "for el in trajectory_1:\n",
    "    if el[0]==30 or el[0]==-30:\n",
    "        continue\n",
    "    else:\n",
    "        trajectory_earth.append(np.array([-el[0], -el[1]]))\n",
    "    \n",
    "\n",
    "h_2 = 10\n",
    "w_2 = 15\n",
    "trajectory_2 = []\n",
    "for i in range(-30,31\n",
    "               ):\n",
    "    trajectory_2.append(get_point(x=i/2, h=h_2, w=w_2))\n",
    "\n",
    "trajectory_venus = trajectory_2.copy()\n",
    "for el in trajectory_2:\n",
    "    if el[0]==15 or el[0]==-15:\n",
    "        continue\n",
    "    else:\n",
    "        trajectory_venus.append(np.array([-el[0], -el[1]]))\n",
    "\n",
    "\n"
   ]
  },
  {
   "attachments": {},
   "cell_type": "markdown",
   "metadata": {},
   "source": [
    "### Adding the planets"
   ]
  },
  {
   "cell_type": "code",
   "execution_count": 36,
   "metadata": {},
   "outputs": [],
   "source": [
    "earth = Planet(name=\"earth\", position=np.array([-30, 0]), trajectory=trajectory_earth)\n",
    "venus = Planet(name=\"venus\", position=np.array([-15, 0]), trajectory=trajectory_venus)"
   ]
  },
  {
   "cell_type": "code",
   "execution_count": 37,
   "metadata": {},
   "outputs": [],
   "source": [
    "planets = [earth, venus]\n",
    "\n",
    "earth.set_other_planets(planets)\n",
    "venus.set_other_planets(planets)\n"
   ]
  },
  {
   "cell_type": "code",
   "execution_count": null,
   "metadata": {},
   "outputs": [],
   "source": []
  },
  {
   "cell_type": "code",
   "execution_count": 38,
   "metadata": {},
   "outputs": [
    {
     "data": {
      "text/plain": [
       "{'venus': 15.0}"
      ]
     },
     "execution_count": 38,
     "metadata": {},
     "output_type": "execute_result"
    }
   ],
   "source": [
    "earth.get_distance_to_other_planets()"
   ]
  },
  {
   "cell_type": "code",
   "execution_count": 39,
   "metadata": {},
   "outputs": [
    {
     "data": {
      "text/plain": [
       "array([-15,   0])"
      ]
     },
     "execution_count": 39,
     "metadata": {},
     "output_type": "execute_result"
    }
   ],
   "source": [
    "venus.position"
   ]
  },
  {
   "attachments": {},
   "cell_type": "markdown",
   "metadata": {},
   "source": [
    "### Setting up test env\n",
    "\n",
    "The observation space is a box of of dimension (2, 4) - two rows and four columns.<br>\n",
    "The rows represent planets, and the columns represent:<br>\n",
    "\n",
    "0. planet position, x-coordinate\n",
    "1. planet position, y-coordinate\n",
    "2. distance to nearest planet\n",
    "3. distance to ideal position\n",
    "\n",
    "The state of the environment is a (2, 4) np.array matching the observation space described above"
   ]
  },
  {
   "cell_type": "code",
   "execution_count": 40,
   "metadata": {},
   "outputs": [],
   "source": [
    "class spaceEnv(Env):\n",
    "    metadata = {\"render_modes\": [\"human\", \"rgb_array\"], \"render_fps\": 1}\n",
    "    \n",
    "    def __init__(self, planets: List[Planet]) -> None:\n",
    "        self.action_space = MultiDiscrete([3, 3])\n",
    "        self.observation_space = Box(low=-100.0, high=100.0, shape=(2, 4), dtype=np.float32)\n",
    "        #set starting state\n",
    "        self.state: np.ndarray = np.array(\n",
    "                        [\n",
    "                    [-15.0, 0.0, 15.0, 0.0],\n",
    "                    [-30.0, 0.0 , 15.0, 0.0]          \n",
    "                ], dtype=np.float32\n",
    "            )\n",
    "        self.planets = planets\n",
    "        self.current_step = 0\n",
    "        self.window = None\n",
    "        self.clock = None\n",
    "    \n",
    "    def step(self, action):\n",
    "        self.state = self.calculate_state(action)\n",
    "        obs: np.ndarray = self.state\n",
    "        reward = self.calculate_reward()\n",
    "\n",
    "        info = {\n",
    "            \"venus\": self.planets[0].position,\n",
    "            \"earth\": self.planets[1].position\n",
    "        }\n",
    "\n",
    "        self.current_step+=1\n",
    "        self.update_planet_steps()\n",
    "        done = self.is_done()\n",
    "        return obs, reward, done, info\n",
    "\n",
    "    def render(self):\n",
    "        pass\n",
    "    \n",
    "    def reset(self):\n",
    "        self.state: np.ndarray = np.array(\n",
    "                        [\n",
    "                    [-15.0, 0.0, 15.0, 0.0],\n",
    "                    [-30.0, 0.0 , 15.0, 0.0]          \n",
    "                ],\n",
    "                dtype=np.float32\n",
    "            )\n",
    "        self.current_step = 0\n",
    "        return self.state\n",
    "\n",
    "    def calculate_reward(self):\n",
    "        reward = 0\n",
    "        for planet in self.planets:\n",
    "            if np.abs(planet.distance_to_nearest_planet) > 5:\n",
    "                reward+=0\n",
    "            else:\n",
    "                reward-=planet.distance_to_nearest_planet\n",
    "            if np.abs(planet.distance_to_ideal_position) > 0:\n",
    "                reward-=np.abs(planet.distance_to_ideal_position)\n",
    "            if np.array_equal(planet.position, planet.ideal_postion):\n",
    "                reward+=1\n",
    "            if np.abs(planet.distance_to_nearest_planet) < 1:\n",
    "                reward-=100\n",
    "                \n",
    "        return reward\n",
    "\n",
    "    def calculate_state(self, action) -> np.array:\n",
    "        positions = []\n",
    "        for action, planet in enumerate(self.planets):\n",
    "            step = self.current_step + 1\n",
    "            x = planet.trajectory[step][0]\n",
    "            y = planet.get_next_position(action)[1]\n",
    "            planet.update_position(action)\n",
    "            positions.append([x, y])\n",
    "\n",
    "        distances = []\n",
    "        for planet in self.planets:\n",
    "            distance_to_nearest_planet: np.float32 = min(planet.get_distance_to_other_planets().values())      \n",
    "            planet.distance_to_nearest_planet = distance_to_nearest_planet\n",
    "            distance_to_ideal_position = planet.get_distance_to_ideal_position()\n",
    "            distances.append([\n",
    "                distance_to_nearest_planet,\n",
    "                distance_to_ideal_position\n",
    "            ])\n",
    "        \n",
    "        state_list = []\n",
    "        for i in range(len(self.planets)):\n",
    "            row = [positions[i][0], positions[i][1], distances[i][0], distances[i][1]]\n",
    "            state_list.append(row)\n",
    "        \n",
    "        return np.array(state_list, dtype=np.float32)\n",
    "    \n",
    "    def update_planet_steps(self):\n",
    "        for planet in self.planets:\n",
    "            if planet.current_step < 119:\n",
    "                planet.current_step = self.current_step\n",
    "    \n",
    "    def is_done(self):\n",
    "        if self.current_step==119:\n",
    "            done = True\n",
    "        else:\n",
    "            done = False\n",
    "        return done\n",
    "        \n",
    "    "
   ]
  },
  {
   "attachments": {},
   "cell_type": "markdown",
   "metadata": {},
   "source": [
    "### Test env"
   ]
  },
  {
   "cell_type": "code",
   "execution_count": 41,
   "metadata": {},
   "outputs": [],
   "source": [
    "env = spaceEnv(planets=[venus, earth])"
   ]
  },
  {
   "cell_type": "code",
   "execution_count": 42,
   "metadata": {},
   "outputs": [
    {
     "name": "stderr",
     "output_type": "stream",
     "text": [
      "c:\\Users\\Marti\\astroClock\\astro\\lib\\site-packages\\stable_baselines3\\common\\env_checker.py:190: UserWarning: Your observation  has an unconventional shape (neither an image, nor a 1D vector). We recommend you to flatten the observation to have only a 1D vector or use a custom policy to properly process the data.\n",
      "  warnings.warn(\n"
     ]
    }
   ],
   "source": [
    "check_env(env, warn=True)"
   ]
  },
  {
   "cell_type": "code",
   "execution_count": 43,
   "metadata": {},
   "outputs": [
    {
     "data": {
      "text/plain": [
       "array([1, 2], dtype=int64)"
      ]
     },
     "execution_count": 43,
     "metadata": {},
     "output_type": "execute_result"
    }
   ],
   "source": [
    "env.action_space.sample()"
   ]
  },
  {
   "cell_type": "code",
   "execution_count": 44,
   "metadata": {},
   "outputs": [
    {
     "name": "stdout",
     "output_type": "stream",
     "text": [
      "Episode:1 Score:-18.749009013175964 info{'venus': array([119.      ,  -2.560382], dtype=float32), 'earth': array([119.      , -27.280191], dtype=float32)}\n",
      "Episode:2 Score:0 info{'venus': array([119.      ,  -2.560382], dtype=float32), 'earth': array([119.      , -51.080193], dtype=float32)}\n",
      "Episode:3 Score:0 info{'venus': array([119.      ,  -2.560382], dtype=float32), 'earth': array([119.     , -74.88019], dtype=float32)}\n",
      "Episode:4 Score:0 info{'venus': array([119.      ,  -2.560382], dtype=float32), 'earth': array([119.     , -98.68019], dtype=float32)}\n",
      "Episode:5 Score:0 info{'venus': array([119.      ,  -2.560382], dtype=float32), 'earth': array([ 119.      , -122.480194], dtype=float32)}\n"
     ]
    }
   ],
   "source": [
    "episodes = 5\n",
    "for episode in range(1, episodes+1):\n",
    "    state = env.reset()\n",
    "    done = False\n",
    "    score = 0 \n",
    "    \n",
    "    while not done:\n",
    "        #env.render()\n",
    "        action = env.action_space.sample()\n",
    "        n_state, reward, done, info = env.step(action)\n",
    "        score+=reward\n",
    "    print('Episode:{} Score:{} info{}'.format(episode, score, info))\n",
    "env.close()"
   ]
  },
  {
   "cell_type": "code",
   "execution_count": 20,
   "metadata": {},
   "outputs": [
    {
     "data": {
      "text/plain": [
       "1.7950549357115018"
      ]
     },
     "execution_count": 20,
     "metadata": {},
     "output_type": "execute_result"
    }
   ],
   "source": [
    "earth.trajectory[2][1]"
   ]
  },
  {
   "cell_type": "code",
   "execution_count": 66,
   "metadata": {},
   "outputs": [
    {
     "data": {
      "text/plain": [
       "array([[-16.251116, -15.976686,  16.97138 ,  24.954184],\n",
       "       [ 26.708305,  11.090343,  29.69334 , -16.34849 ]], dtype=float32)"
      ]
     },
     "execution_count": 66,
     "metadata": {},
     "output_type": "execute_result"
    }
   ],
   "source": [
    "env.observation_space.sample()"
   ]
  }
 ],
 "metadata": {
  "kernelspec": {
   "display_name": "astro",
   "language": "python",
   "name": "python3"
  },
  "language_info": {
   "codemirror_mode": {
    "name": "ipython",
    "version": 3
   },
   "file_extension": ".py",
   "mimetype": "text/x-python",
   "name": "python",
   "nbconvert_exporter": "python",
   "pygments_lexer": "ipython3",
   "version": "3.9.7"
  },
  "orig_nbformat": 4
 },
 "nbformat": 4,
 "nbformat_minor": 2
}
