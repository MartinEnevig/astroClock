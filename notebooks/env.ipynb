{
 "cells": [
  {
   "cell_type": "code",
   "execution_count": 1,
   "metadata": {},
   "outputs": [],
   "source": [
    "from gym import Env\n",
    "from gym.spaces import Box\n",
    "\n",
    "import matplotlib\n",
    "from matplotlib import pyplot as plt\n",
    "\n",
    "from stable_baselines3 import PPO, SAC\n",
    "from stable_baselines3.common.vec_env import VecFrameStack, DummyVecEnv\n",
    "from stable_baselines3.common.evaluation import evaluate_policy\n",
    "from stable_baselines3.common.env_checker import check_env\n",
    "import random\n",
    "import const as c\n",
    "\n",
    "import numpy as np\n",
    "import os\n",
    "\n",
    "from typing import List, Optional, TypedDict"
   ]
  },
  {
   "cell_type": "code",
   "execution_count": 2,
   "metadata": {},
   "outputs": [],
   "source": [
    "class spaceEnv(Env):\n",
    "    \"\"\"\n",
    "    Observation space is a box of shape (5, 4).\n",
    "    Columns represent:\n",
    "    0: Polar postiion r\n",
    "    1: Polar position theta,\n",
    "    2: Distance to target position\n",
    "    3: Distance to the object currently being moved. For the current object this is set to negative.\n",
    "    Rows represent objects. Current object in 0, and the rest in order of closeness.\n",
    "\n",
    "    Action space is a boc of shape (2, ) with values between -1 and 1 for first entry and 0 and 1 for second entry   \n",
    "    \"\"\"\n",
    "    metadata = {\"render_modes\": [\"human\"], \"render_fps\": 2}\n",
    "    \n",
    "    def __init__(self, render_mode: Optional[str]=None, full_mode: bool = True) -> None:\n",
    "        # Load planet data from files\n",
    "        with open('../src/data/data1.npy', 'rb') as file:\n",
    "            self.position_data_polar = np.load(file)   # Numpy array of body positions in polar coordinates. r,v (5206896, 10, 2)\n",
    "            self.position_data_XY = np.load(file)      # Numpy array of body positions in cortesian coordinates. x,y (5206896, 10, 2)\n",
    "            self.time_data = np.load(file)            # Numpy array of time stamp. year, month, day, hour, minute (5206896, 5)\n",
    "        with open('../src/data/data2.npy', 'rb') as file:\n",
    "            self.start_positions = np.load(file)      # Numpy array of allowed start positions = no initial collision (12511,)\n",
    "            self.min_dist_squared = np.load(file)      # Numpy array of 'minimum distance squared' between planets (10, 10)\n",
    "        \n",
    "        self.full_mode = full_mode\n",
    "        \n",
    "        self.objects: List[str] = self.get_object_list()\n",
    "        self.current_step = self.get_starting_step(full_mode)   \n",
    "        self.object_positions: dict[str, dict[str, np.float32]] = self.get_starting_positions()\n",
    "\n",
    "        self.object_count: int = 0\n",
    "    \n",
    "        # Define action space\n",
    "        self.action_space = Box(\n",
    "            low=np.array([-1.0, 0.0]),\n",
    "            high=np.array([1.0, 1.0]), \n",
    "        )\n",
    "        self.render_mode = render_mode\n",
    "\n",
    "        # Define observation space \n",
    "        self.observation_space = Box(low=-2830.0, high=2830.0, shape=(5, 4), dtype=np.float32)      \n",
    "        \n",
    "    def get_object_list(self) -> List[str]:\n",
    "        objects = c.objects.copy()\n",
    "        return objects\n",
    "\n",
    "    def get_starting_step(self, mode: bool) -> int:\n",
    "        if mode:\n",
    "            position = int(np.random.choice(self.start_positions))\n",
    "        else:\n",
    "            position = 0\n",
    "        return position  \n",
    "    \n",
    "    def get_starting_positions(self) -> dict[str, dict[str, np.float32]]:\n",
    "        return {\n",
    "            \"sun\":{ \n",
    "                \"position_polar_dist\": self.position_data_polar[self.current_step][0][0],\n",
    "                \"position_polar_theta\": self.position_data_polar[self.current_step][0][1],\n",
    "                \"target_position_dist\": self.position_data_polar[self.current_step][0][0],\n",
    "                \"target_position_theta\": self.position_data_polar[self.current_step][0][1],\n",
    "                \"distance_to_target\": 0   \n",
    "            },\n",
    "            \"jupiter\":{ \n",
    "                \"position_polar_dist\": self.position_data_polar[self.current_step][1][0],\n",
    "                \"position_polar_theta\": self.position_data_polar[self.current_step][1][1],\n",
    "                \"target_position_dist\": self.position_data_polar[self.current_step][1][0],\n",
    "                \"target_position_theta\": self.position_data_polar[self.current_step][1][1],   \n",
    "                \"distance_to_target\": 0  \n",
    "            },\n",
    "            \"neptune\":{ \n",
    "                \"position_polar_dist\": self.position_data_polar[self.current_step][2][0],\n",
    "                \"position_polar_theta\": self.position_data_polar[self.current_step][2][1],\n",
    "                \"target_position_dist\": self.position_data_polar[self.current_step][2][0],\n",
    "                \"target_position_theta\": self.position_data_polar[self.current_step][2][1],   \n",
    "                \"distance_to_target\": 0  \n",
    "            },\n",
    "            \"saturn\":{ \n",
    "                \"position_polar_dist\": self.position_data_polar[self.current_step][3][0],\n",
    "                \"position_polar_theta\": self.position_data_polar[self.current_step][3][1],\n",
    "                \"target_position_dist\": self.position_data_polar[self.current_step][3][0],\n",
    "                \"target_position_theta\": self.position_data_polar[self.current_step][3][1],   \n",
    "                \"distance_to_target\": 0  \n",
    "            },\n",
    "            \"uranus\":{ \n",
    "                \"position_polar_dist\": self.position_data_polar[self.current_step][4][0],\n",
    "                \"position_polar_theta\": self.position_data_polar[self.current_step][4][1],\n",
    "                \"target_position_dist\": self.position_data_polar[self.current_step][4][0],\n",
    "                \"target_position_theta\": self.position_data_polar[self.current_step][4][1],   \n",
    "                \"distance_to_target\": 0  \n",
    "            },\n",
    "            \"moon\":{ \n",
    "                \"position_polar_dist\": self.position_data_polar[self.current_step][5][0],\n",
    "                \"position_polar_theta\": self.position_data_polar[self.current_step][5][1],\n",
    "                \"target_position_dist\": self.position_data_polar[self.current_step][5][0],\n",
    "                \"target_position_theta\": self.position_data_polar[self.current_step][5][1],   \n",
    "                \"distance_to_target\": 0  \n",
    "            },\n",
    "            \"mercury\":{ \n",
    "                \"position_polar_dist\": self.position_data_polar[self.current_step][6][0],\n",
    "                \"position_polar_theta\": self.position_data_polar[self.current_step][6][1],\n",
    "                \"target_position_dist\": self.position_data_polar[self.current_step][6][0],\n",
    "                \"target_position_theta\": self.position_data_polar[self.current_step][6][1],   \n",
    "                \"distance_to_target\": 0  \n",
    "            },\n",
    "           \"venus\":{ \n",
    "                \"position_polar_dist\": self.position_data_polar[self.current_step][7][0],\n",
    "                \"position_polar_theta\": self.position_data_polar[self.current_step][7][1],\n",
    "                \"target_position_dist\": self.position_data_polar[self.current_step][7][0],\n",
    "                \"target_position_theta\": self.position_data_polar[self.current_step][7][1],   \n",
    "                \"distance_to_target\": 0  \n",
    "            },\n",
    "            \"mars\":{ \n",
    "                \"position_polar_dist\": self.position_data_polar[self.current_step][8][0],\n",
    "                \"position_polar_theta\": self.position_data_polar[self.current_step][8][1],\n",
    "                \"target_position_dist\": self.position_data_polar[self.current_step][8][0],\n",
    "                \"target_position_theta\": self.position_data_polar[self.current_step][8][1],   \n",
    "                \"distance_to_target\": 0  \n",
    "            },\n",
    "            \"stellanova\":{ \n",
    "                \"position_polar_dist\": self.position_data_polar[self.current_step][9][0],\n",
    "                \"position_polar_theta\": self.position_data_polar[self.current_step][9][1],\n",
    "                \"target_position_dist\": self.position_data_polar[self.current_step][9][0],\n",
    "                \"target_position_theta\": self.position_data_polar[self.current_step][9][1],   \n",
    "                \"distance_to_target\": 0  \n",
    "            }\n",
    "        }\n",
    "\n",
    "    def reset(self):\n",
    "        # Reset step counter\n",
    "        self.current_step = self.get_starting_step(self.full_mode)\n",
    "        self.objects = self.get_object_list()\n",
    "        self.object_positions = self.get_starting_positions()\n",
    "        self.object_count = 0\n",
    "\n",
    "        obs = np.array(self.reset_obs())\n",
    "        print(self.observation_space.sample())\n",
    "        print(self.observation_space.sample().shape)\n",
    "        print(type(self.observation_space.sample()))\n",
    "        print(obs)\n",
    "        print(type(obs))\n",
    "        print(obs.shape)\n",
    "        return obs\n",
    "          \n",
    "    \n",
    "    def choose_current_object(self) -> str:\n",
    "        \"\"\"For now this is a dummy method, that just returns a popped object from the object list\"\"\"\n",
    "        obj = self.objects.pop()\n",
    "        self.object_count+=1\n",
    "        return obj\n",
    "    \n",
    "    def calculate_nearest_four(self, current_object: str) -> List[str]:\n",
    "        \"\"\"For now this is a dummy method, that returns four random planets from the object list\"\"\"\n",
    "        print(current_object)\n",
    "        objects = self.objects.copy()\n",
    "        print(objects)\n",
    "        objects2 = objects.remove(current_object)\n",
    "        print(objects2)\n",
    "        return random.sample(objects2, 4)\n",
    "\n",
    "    def step(self, action: np.ndarray):\n",
    "\n",
    "        current_object = self.choose_current_object()\n",
    "        nearest_four = self.calculate_nearest_four(current_object=current_object)\n",
    "\n",
    "        target_position_dist = self.object_positions[current_object][\"target_position_dist\"]\n",
    "        target_position_theta = self.object_positions[current_object][\"target_position_theta\"]\n",
    "\n",
    "        new_position = self.calc_new_position(action=action, current_object=current_object)\n",
    "\n",
    "        current_postion = [\n",
    "            self.object_positions[current_object][\"position_polar_dist\"],\n",
    "            self.object_positions[current_object][\"position_polar_theta\"]\n",
    "        ]\n",
    "\n",
    "        distance_to_target = self.cartesian_distance(\n",
    "                            current_position_dist=current_postion[0],\n",
    "                            current_position_theta=current_postion[1],\n",
    "                            new_position_dist=target_position_dist,\n",
    "                            new_position_theta=target_position_theta\n",
    "                        )\n",
    "        \n",
    "        reward = self.calc_reward(distance_to_target=distance_to_target)\n",
    "        \n",
    "        obs = self.observation(\n",
    "            new_position=new_position,\n",
    "            distance_to_target=distance_to_target,\n",
    "            nearest_objects=nearest_four\n",
    "        )\n",
    "\n",
    "        done = (True if self.current_step==self.position_data_polar.shape[0] else False)        \n",
    "\n",
    "        info = {}\n",
    "\n",
    "        if self.object_count==9:\n",
    "            self.update_current_step\n",
    "\n",
    "\n",
    "        return self.state, reward, done, info\n",
    "\n",
    "    def update_current_step(self):\n",
    "        self.current_step+=1\n",
    "        self.object_count = 0\n",
    "        self.objects = self.get_object_list()\n",
    "    \n",
    "    def update_position(self,\n",
    "                        current_object: str,\n",
    "                        new_position: List[float],\n",
    "                        distance_to_target: float):\n",
    "        self.object_positions[current_object][\"position_polar_dist\"] = new_position[0]\n",
    "        self.object_positions[current_object][\"position_polar_dist\"] = new_position[1]\n",
    "        self.object_positions[current_object][\"distance_to_target\"] = distance_to_target\n",
    "\n",
    "    def update_targets(self):\n",
    "        for entry in enumerate(self.object_positions.keys()):\n",
    "            self.object[entry][1][\"target_position_dist\"] = self.position_data_polar[self.current_step][entry[0]][0]\n",
    "            self.object[entry][1][\"target_position_theta\"] = self.position_data_polar[self.current_step][entry[0]][1]\n",
    "\n",
    "    def calc_new_position(self, action: np.ndarray, current_object: str) -> List[float]:\n",
    "        new_dist = self.object_positions[current_object][\"position_polar_dist\"] + action[0]*c.BOARD_RADIUS\n",
    "        new_theta = self.object_positions[current_object][\"position_polar_theta\"] + action[1]*2*np.pi\n",
    "        return [new_dist, new_theta]\n",
    "    \n",
    "    \n",
    "    def cartesian_distance(self,\n",
    "                         current_position_dist: float,\n",
    "                         current_position_theta: float, \n",
    "                         new_position_dist: float,\n",
    "                         new_position_theta: float\n",
    "                         ) -> float:\n",
    "        \n",
    "        current_cartesian = self.polar_to_cartesian(\n",
    "                                dist=current_position_dist,\n",
    "                                theta=current_position_theta\n",
    "                            )\n",
    "        new_cartesian = self.polar_to_cartesian(\n",
    "                                dist=new_position_dist,\n",
    "                                theta=new_position_theta\n",
    "                            )\n",
    "\n",
    "        distance = abs(np.linalg.norm(current_cartesian - new_cartesian))\n",
    "\n",
    "        return distance\n",
    "    \n",
    "    @staticmethod\n",
    "    def calc_reward(distance_to_target) -> float:\n",
    "        if distance_to_target < 0.5:\n",
    "            reward = 10\n",
    "        else:\n",
    "            reward = -(distance_to_target**2)\n",
    "\n",
    "        return reward\n",
    "    \n",
    "    @staticmethod\n",
    "    def polar_to_cartesian(dist: float, theta: float) -> np.ndarray:\n",
    "        x = dist*np.cos(theta)\n",
    "        y = dist*np.sin(theta)\n",
    "\n",
    "        return np.array([x, y])\n",
    "\n",
    "\n",
    "    def calc_planet_order(self, polarPositions):\n",
    "        return iter(np.argsort(polarPositions[:,3]))\n",
    "\n",
    "    def observation(self, \n",
    "                    new_position: List[float],  \n",
    "                    distance_to_target: float,\n",
    "                    nearest_objects:List[str]\n",
    "                    ) -> np.ndarray:\n",
    "        obs = np.zeros((5, 4))\n",
    "        obs[0, 0] = new_position[0]\n",
    "        obs[0, 1] = new_position[1]\n",
    "        obs[0, 1] = distance_to_target\n",
    "        obs[0, 4] = -99.0\n",
    "\n",
    "        for object in enumerate(nearest_objects):\n",
    "            row = object[0] + 1\n",
    "            dist = self.object_positions[object[1]][\"position_polar_dist\"]\n",
    "            theta = self.object_positions[object[1]][\"position_polar_theta\"]\n",
    "\n",
    "            obs[row, 0] = dist\n",
    "            obs[row, 1] = theta\n",
    "            obs[row, 2] = self.object_positions[object[1]][\"distance_to_target\"]\n",
    "\n",
    "            current_cartesian = self.polar_to_cartesian(new_position[0], new_position[1])\n",
    "            object_cartesian = self.polar_to_cartesian(dist, theta)\n",
    "            distance_to_current = self.cartesian_distance(\n",
    "                                        current_position_dist=dist,\n",
    "                                        current_position_theta=theta,\n",
    "                                        new_position_dist=new_position[0],\n",
    "                                        new_position_theta=new_position[1]\n",
    "                                    )\n",
    "            obs[row, 3] = distance_to_current\n",
    "\n",
    "            return np.array(obs)\n",
    "\n",
    "    def reset_obs(self) -> np.ndarray:\n",
    "        obs = np.zeros((5, 4))\n",
    "        \n",
    "        for obj in enumerate(self.objects[0:5]):\n",
    "            obs[obj[0], 0] = np.float32(self.object_positions[obj[1]][\"position_polar_dist\"])\n",
    "            obs[obj[0], 1] = np.float32(self.object_positions[obj[1]][\"position_polar_theta\"])\n",
    "            obs[obj[0], 2] = np.float32(0.0)\n",
    "            obs[obj[0], 3] = np.float32(-99.0)\n",
    "\n",
    "        return np.array(obs)\n",
    "\n",
    "\n",
    "\n",
    "\n",
    "# myEnv = spaceEnv()\n",
    "# check_env(myEnv)\n",
    "# print('done')"
   ]
  },
  {
   "cell_type": "code",
   "execution_count": 3,
   "metadata": {},
   "outputs": [
    {
     "name": "stderr",
     "output_type": "stream",
     "text": [
      "/home/marcla/astro2/.venv/lib/python3.9/site-packages/gym/spaces/box.py:127: UserWarning: \u001b[33mWARN: Box bound precision lowered by casting to float32\u001b[0m\n",
      "  logger.warn(f\"Box bound precision lowered by casting to {self.dtype}\")\n"
     ]
    }
   ],
   "source": [
    "myEnv = spaceEnv()"
   ]
  },
  {
   "cell_type": "code",
   "execution_count": 167,
   "metadata": {},
   "outputs": [
    {
     "data": {
      "text/plain": [
       "numpy.ndarray"
      ]
     },
     "execution_count": 167,
     "metadata": {},
     "output_type": "execute_result"
    }
   ],
   "source": []
  },
  {
   "cell_type": "code",
   "execution_count": 4,
   "metadata": {},
   "outputs": [
    {
     "name": "stdout",
     "output_type": "stream",
     "text": [
      "stellanova\n",
      "['sun', 'jupiter', 'neptune', 'saturn', 'uranus', 'moon', 'mercury', 'venus', 'mars']\n"
     ]
    },
    {
     "ename": "ValueError",
     "evalue": "list.remove(x): x not in list",
     "output_type": "error",
     "traceback": [
      "\u001b[0;31m---------------------------------------------------------------------------\u001b[0m",
      "\u001b[0;31mValueError\u001b[0m                                Traceback (most recent call last)",
      "Cell \u001b[0;32mIn[4], line 1\u001b[0m\n\u001b[0;32m----> 1\u001b[0m myEnv\u001b[39m.\u001b[39;49mstep(myEnv\u001b[39m.\u001b[39;49maction_space\u001b[39m.\u001b[39;49msample())\n",
      "Cell \u001b[0;32mIn[2], line 163\u001b[0m, in \u001b[0;36mspaceEnv.step\u001b[0;34m(self, action)\u001b[0m\n\u001b[1;32m    160\u001b[0m \u001b[39mdef\u001b[39;00m \u001b[39mstep\u001b[39m(\u001b[39mself\u001b[39m, action: np\u001b[39m.\u001b[39mndarray):\n\u001b[1;32m    162\u001b[0m     current_object \u001b[39m=\u001b[39m \u001b[39mself\u001b[39m\u001b[39m.\u001b[39mchoose_current_object()\n\u001b[0;32m--> 163\u001b[0m     nearest_four \u001b[39m=\u001b[39m \u001b[39mself\u001b[39;49m\u001b[39m.\u001b[39;49mcalculate_nearest_four(current_object\u001b[39m=\u001b[39;49mcurrent_object)\n\u001b[1;32m    165\u001b[0m     target_position_dist \u001b[39m=\u001b[39m \u001b[39mself\u001b[39m\u001b[39m.\u001b[39mobject_positions[current_object][\u001b[39m\"\u001b[39m\u001b[39mtarget_position_dist\u001b[39m\u001b[39m\"\u001b[39m]\n\u001b[1;32m    166\u001b[0m     target_position_theta \u001b[39m=\u001b[39m \u001b[39mself\u001b[39m\u001b[39m.\u001b[39mobject_positions[current_object][\u001b[39m\"\u001b[39m\u001b[39mtarget_position_theta\u001b[39m\u001b[39m\"\u001b[39m]\n",
      "Cell \u001b[0;32mIn[2], line 156\u001b[0m, in \u001b[0;36mspaceEnv.calculate_nearest_four\u001b[0;34m(self, current_object)\u001b[0m\n\u001b[1;32m    154\u001b[0m objects \u001b[39m=\u001b[39m \u001b[39mself\u001b[39m\u001b[39m.\u001b[39mobjects\u001b[39m.\u001b[39mcopy()\n\u001b[1;32m    155\u001b[0m \u001b[39mprint\u001b[39m(objects)\n\u001b[0;32m--> 156\u001b[0m objects2 \u001b[39m=\u001b[39m objects\u001b[39m.\u001b[39;49mremove(current_object)\n\u001b[1;32m    157\u001b[0m \u001b[39mprint\u001b[39m(objects2)\n\u001b[1;32m    158\u001b[0m \u001b[39mreturn\u001b[39;00m random\u001b[39m.\u001b[39msample(objects2, \u001b[39m4\u001b[39m)\n",
      "\u001b[0;31mValueError\u001b[0m: list.remove(x): x not in list"
     ]
    }
   ],
   "source": [
    "myEnv.step(myEnv.action_space.sample())"
   ]
  },
  {
   "cell_type": "code",
   "execution_count": 243,
   "metadata": {},
   "outputs": [
    {
     "name": "stdout",
     "output_type": "stream",
     "text": [
      "[[ 2161.7087   -466.1456   2542.6006    990.28284]\n",
      " [ 1063.1665    210.65302 -2519.928     691.28516]\n",
      " [ 2796.9963  -2576.4753    429.14902   401.30392]\n",
      " [  520.6811  -2156.6013   2172.269    1890.3079 ]\n",
      " [  233.84991  1049.8556   1972.8816   2826.4106 ]]\n",
      "(5, 4)\n",
      "<class 'numpy.ndarray'>\n",
      "[[ 9.25275452e+02  4.22962666e+00  0.00000000e+00 -9.90000000e+01]\n",
      " [ 1.34000000e+03  1.27945805e+00  0.00000000e+00 -9.90000000e+01]\n",
      " [ 7.47888123e+02  3.96299624e+00  0.00000000e+00 -9.90000000e+01]\n",
      " [ 1.34000000e+03  1.11787021e+00  0.00000000e+00 -9.90000000e+01]\n",
      " [ 7.36369690e+02  1.90346336e+00  0.00000000e+00 -9.90000000e+01]]\n",
      "<class 'numpy.ndarray'>\n",
      "(5, 4)\n"
     ]
    },
    {
     "name": "stderr",
     "output_type": "stream",
     "text": [
      "/home/marcla/astro2/.venv/lib/python3.9/site-packages/stable_baselines3/common/env_checker.py:130: UserWarning: Your observation  has an unconventional shape (neither an image, nor a 1D vector). We recommend you to flatten the observation to have only a 1D vector or use a custom policy to properly process the data.\n",
      "  warnings.warn(\n",
      "/home/marcla/astro2/.venv/lib/python3.9/site-packages/stable_baselines3/common/env_checker.py:272: UserWarning: We recommend you to use a symmetric and normalized Box action space (range=[-1, 1]) cf https://stable-baselines3.readthedocs.io/en/master/guide/rl_tips.html\n",
      "  warnings.warn(\n"
     ]
    },
    {
     "ename": "AssertionError",
     "evalue": "The observation returned by the `reset()` method does not match the given observation space",
     "output_type": "error",
     "traceback": [
      "\u001b[0;31m---------------------------------------------------------------------------\u001b[0m",
      "\u001b[0;31mAssertionError\u001b[0m                            Traceback (most recent call last)",
      "Cell \u001b[0;32mIn[243], line 1\u001b[0m\n\u001b[0;32m----> 1\u001b[0m check_env(myEnv)\n",
      "File \u001b[0;32m~/astro2/.venv/lib/python3.9/site-packages/stable_baselines3/common/env_checker.py:278\u001b[0m, in \u001b[0;36mcheck_env\u001b[0;34m(env, warn, skip_render_check)\u001b[0m\n\u001b[1;32m    272\u001b[0m         warnings\u001b[39m.\u001b[39mwarn(\n\u001b[1;32m    273\u001b[0m             \u001b[39m\"\u001b[39m\u001b[39mWe recommend you to use a symmetric and normalized Box action space (range=[-1, 1]) \u001b[39m\u001b[39m\"\u001b[39m\n\u001b[1;32m    274\u001b[0m             \u001b[39m\"\u001b[39m\u001b[39mcf https://stable-baselines3.readthedocs.io/en/master/guide/rl_tips.html\u001b[39m\u001b[39m\"\u001b[39m\n\u001b[1;32m    275\u001b[0m         )\n\u001b[1;32m    277\u001b[0m \u001b[39m# ============ Check the returned values ===============\u001b[39;00m\n\u001b[0;32m--> 278\u001b[0m _check_returned_values(env, observation_space, action_space)\n\u001b[1;32m    280\u001b[0m \u001b[39m# ==== Check the render method and the declared render modes ====\u001b[39;00m\n\u001b[1;32m    281\u001b[0m \u001b[39mif\u001b[39;00m \u001b[39mnot\u001b[39;00m skip_render_check:\n",
      "File \u001b[0;32m~/astro2/.venv/lib/python3.9/site-packages/stable_baselines3/common/env_checker.py:152\u001b[0m, in \u001b[0;36m_check_returned_values\u001b[0;34m(env, observation_space, action_space)\u001b[0m\n\u001b[1;32m    150\u001b[0m             \u001b[39mraise\u001b[39;00m \u001b[39mAssertionError\u001b[39;00m(\u001b[39mf\u001b[39m\u001b[39m\"\u001b[39m\u001b[39mError while checking key=\u001b[39m\u001b[39m{\u001b[39;00mkey\u001b[39m}\u001b[39;00m\u001b[39m: \u001b[39m\u001b[39m\"\u001b[39m \u001b[39m+\u001b[39m \u001b[39mstr\u001b[39m(e))\n\u001b[1;32m    151\u001b[0m \u001b[39melse\u001b[39;00m:\n\u001b[0;32m--> 152\u001b[0m     _check_obs(obs, observation_space, \u001b[39m\"\u001b[39;49m\u001b[39mreset\u001b[39;49m\u001b[39m\"\u001b[39;49m)\n\u001b[1;32m    154\u001b[0m \u001b[39m# Sample a random action\u001b[39;00m\n\u001b[1;32m    155\u001b[0m action \u001b[39m=\u001b[39m action_space\u001b[39m.\u001b[39msample()\n",
      "File \u001b[0;32m~/astro2/.venv/lib/python3.9/site-packages/stable_baselines3/common/env_checker.py:112\u001b[0m, in \u001b[0;36m_check_obs\u001b[0;34m(obs, observation_space, method_name)\u001b[0m\n\u001b[1;32m    109\u001b[0m \u001b[39melif\u001b[39;00m _is_numpy_array_space(observation_space):\n\u001b[1;32m    110\u001b[0m     \u001b[39massert\u001b[39;00m \u001b[39misinstance\u001b[39m(obs, np\u001b[39m.\u001b[39mndarray), \u001b[39mf\u001b[39m\u001b[39m\"\u001b[39m\u001b[39mThe observation returned by `\u001b[39m\u001b[39m{\u001b[39;00mmethod_name\u001b[39m}\u001b[39;00m\u001b[39m()` method must be a numpy array\u001b[39m\u001b[39m\"\u001b[39m\n\u001b[0;32m--> 112\u001b[0m \u001b[39massert\u001b[39;00m observation_space\u001b[39m.\u001b[39mcontains(\n\u001b[1;32m    113\u001b[0m     obs\n\u001b[1;32m    114\u001b[0m ), \u001b[39mf\u001b[39m\u001b[39m\"\u001b[39m\u001b[39mThe observation returned by the `\u001b[39m\u001b[39m{\u001b[39;00mmethod_name\u001b[39m}\u001b[39;00m\u001b[39m()` method does not match the given observation space\u001b[39m\u001b[39m\"\u001b[39m\n",
      "\u001b[0;31mAssertionError\u001b[0m: The observation returned by the `reset()` method does not match the given observation space"
     ]
    }
   ],
   "source": [
    "check_env(myEnv)"
   ]
  },
  {
   "cell_type": "code",
   "execution_count": null,
   "metadata": {},
   "outputs": [],
   "source": []
  },
  {
   "cell_type": "code",
   "execution_count": 115,
   "metadata": {},
   "outputs": [
    {
     "ename": "TypeError",
     "evalue": "unhashable type: 'slice'",
     "output_type": "error",
     "traceback": [
      "\u001b[0;31m---------------------------------------------------------------------------\u001b[0m",
      "\u001b[0;31mTypeError\u001b[0m                                 Traceback (most recent call last)",
      "Cell \u001b[0;32mIn[115], line 3\u001b[0m\n\u001b[1;32m      1\u001b[0m ele \u001b[39m=\u001b[39m {\u001b[39m\"\u001b[39m\u001b[39mabe\u001b[39m\u001b[39m\"\u001b[39m: \u001b[39m\"\u001b[39m\u001b[39mko\u001b[39m\u001b[39m\"\u001b[39m, \u001b[39m\"\u001b[39m\u001b[39mjohnny\u001b[39m\u001b[39m\"\u001b[39m: \u001b[39m\"\u001b[39m\u001b[39mnavn\u001b[39m\u001b[39m\"\u001b[39m, \u001b[39m\"\u001b[39m\u001b[39malbert\u001b[39m\u001b[39m\"\u001b[39m: \u001b[39m\"\u001b[39m\u001b[39mpers\u001b[39m\u001b[39m\"\u001b[39m}\n\u001b[0;32m----> 3\u001b[0m \u001b[39mprint\u001b[39m(ele[\u001b[39m0\u001b[39;49m:\u001b[39m2\u001b[39;49m])\n",
      "\u001b[0;31mTypeError\u001b[0m: unhashable type: 'slice'"
     ]
    }
   ],
   "source": [
    "ele = {\"abe\": \"ko\", \"johnny\": \"navn\", \"albert\": \"pers\"}\n",
    "\n",
    "print(ele[0:2])"
   ]
  },
  {
   "cell_type": "code",
   "execution_count": 117,
   "metadata": {},
   "outputs": [
    {
     "name": "stdout",
     "output_type": "stream",
     "text": [
      "['ebbe', 'kaj', 'jin']\n"
     ]
    }
   ],
   "source": [
    "objects = [\"ebbe\", \"kaj\", \"jin\", \"palle\"]\n",
    "\n",
    "print(objects[0:3])"
   ]
  },
  {
   "cell_type": "code",
   "execution_count": 10,
   "metadata": {},
   "outputs": [
    {
     "data": {
      "text/plain": [
       "Box([-1500. -1500.     0.     0. -2830.], [1500.        1500.        1500.           6.2831855 2830.       ], (5,), float32)"
      ]
     },
     "execution_count": 10,
     "metadata": {},
     "output_type": "execute_result"
    }
   ],
   "source": [
    "utils.flatten_space(test_space)"
   ]
  },
  {
   "cell_type": "code",
   "execution_count": 94,
   "metadata": {},
   "outputs": [
    {
     "data": {
      "text/plain": [
       "array([-0.67751193,  0.52740717,  1.268986  ], dtype=float32)"
      ]
     },
     "execution_count": 94,
     "metadata": {},
     "output_type": "execute_result"
    }
   ],
   "source": [
    "sct = Box(\n",
    "            low=np.array([-1.0, 0.0, 0.0]),\n",
    "            high=np.array([1.0, 1.0, 8.0]), \n",
    "            dtype=np.float32\n",
    "        )\n",
    "\n",
    "sct.sample()"
   ]
  },
  {
   "cell_type": "code",
   "execution_count": 10,
   "metadata": {},
   "outputs": [
    {
     "ename": "NotImplementedError",
     "evalue": "Unknown space: `Dict('X_position_self': Box(-1500.0, 1500.0, (1,), float32), 'Y_position_self': Box(-1500.0, 1500.0, (1,), float32), 'distance_to_target_position': Box(0.0, 1500.0, (1,), float32), 'polar_angle_self': Box(0.0, 6.2831855, (1,), float32), 'polar_distance_self': Box(-2830.0, 2830.0, (1,), float32))`",
     "output_type": "error",
     "traceback": [
      "\u001b[0;31m---------------------------------------------------------------------------\u001b[0m",
      "\u001b[0;31mNotImplementedError\u001b[0m                       Traceback (most recent call last)",
      "Cell \u001b[0;32mIn[10], line 1\u001b[0m\n\u001b[0;32m----> 1\u001b[0m utils\u001b[39m.\u001b[39;49mflatten_space(test_space)\n",
      "File \u001b[0;32m/usr/lib/python3.9/functools.py:877\u001b[0m, in \u001b[0;36msingledispatch.<locals>.wrapper\u001b[0;34m(*args, **kw)\u001b[0m\n\u001b[1;32m    873\u001b[0m \u001b[39mif\u001b[39;00m \u001b[39mnot\u001b[39;00m args:\n\u001b[1;32m    874\u001b[0m     \u001b[39mraise\u001b[39;00m \u001b[39mTypeError\u001b[39;00m(\u001b[39mf\u001b[39m\u001b[39m'\u001b[39m\u001b[39m{\u001b[39;00mfuncname\u001b[39m}\u001b[39;00m\u001b[39m requires at least \u001b[39m\u001b[39m'\u001b[39m\n\u001b[1;32m    875\u001b[0m                     \u001b[39m'\u001b[39m\u001b[39m1 positional argument\u001b[39m\u001b[39m'\u001b[39m)\n\u001b[0;32m--> 877\u001b[0m \u001b[39mreturn\u001b[39;00m dispatch(args[\u001b[39m0\u001b[39;49m]\u001b[39m.\u001b[39;49m\u001b[39m__class__\u001b[39;49m)(\u001b[39m*\u001b[39;49margs, \u001b[39m*\u001b[39;49m\u001b[39m*\u001b[39;49mkw)\n",
      "File \u001b[0;32m~/astro2/.venv/lib/python3.9/site-packages/gymnasium/spaces/utils.py:463\u001b[0m, in \u001b[0;36mflatten_space\u001b[0;34m(space)\u001b[0m\n\u001b[1;32m    399\u001b[0m \u001b[39m@singledispatch\u001b[39m\n\u001b[1;32m    400\u001b[0m \u001b[39mdef\u001b[39;00m \u001b[39mflatten_space\u001b[39m(space: Space[Any]) \u001b[39m-\u001b[39m\u001b[39m>\u001b[39m Box \u001b[39m|\u001b[39m Dict \u001b[39m|\u001b[39m Sequence \u001b[39m|\u001b[39m Tuple \u001b[39m|\u001b[39m Graph:\n\u001b[1;32m    401\u001b[0m \u001b[39m    \u001b[39m\u001b[39m\"\"\"Flatten a space into a space that is as flat as possible.\u001b[39;00m\n\u001b[1;32m    402\u001b[0m \n\u001b[1;32m    403\u001b[0m \u001b[39m    This function will attempt to flatten ``space`` into a single :class:`gymnasium.spaces.Box` space.\u001b[39;00m\n\u001b[0;32m   (...)\u001b[0m\n\u001b[1;32m    461\u001b[0m \u001b[39m        True\u001b[39;00m\n\u001b[1;32m    462\u001b[0m \u001b[39m    \"\"\"\u001b[39;00m\n\u001b[0;32m--> 463\u001b[0m     \u001b[39mraise\u001b[39;00m \u001b[39mNotImplementedError\u001b[39;00m(\u001b[39mf\u001b[39m\u001b[39m\"\u001b[39m\u001b[39mUnknown space: `\u001b[39m\u001b[39m{\u001b[39;00mspace\u001b[39m}\u001b[39;00m\u001b[39m`\u001b[39m\u001b[39m\"\u001b[39m)\n",
      "\u001b[0;31mNotImplementedError\u001b[0m: Unknown space: `Dict('X_position_self': Box(-1500.0, 1500.0, (1,), float32), 'Y_position_self': Box(-1500.0, 1500.0, (1,), float32), 'distance_to_target_position': Box(0.0, 1500.0, (1,), float32), 'polar_angle_self': Box(0.0, 6.2831855, (1,), float32), 'polar_distance_self': Box(-2830.0, 2830.0, (1,), float32))`"
     ]
    }
   ],
   "source": [
    "utils.flatten_space(test_space)"
   ]
  },
  {
   "cell_type": "code",
   "execution_count": 54,
   "metadata": {},
   "outputs": [
    {
     "name": "stderr",
     "output_type": "stream",
     "text": [
      "/home/marcla/astro2/.venv/lib/python3.9/site-packages/gym/spaces/box.py:127: UserWarning: \u001b[33mWARN: Box bound precision lowered by casting to float32\u001b[0m\n",
      "  logger.warn(f\"Box bound precision lowered by casting to {self.dtype}\")\n"
     ]
    }
   ],
   "source": [
    "myEnv = spaceEnv()"
   ]
  },
  {
   "cell_type": "code",
   "execution_count": 102,
   "metadata": {},
   "outputs": [],
   "source": [
    "planetlist = [\"sun\", \"jupiter\", \"neptune\", \"saturn\", \"uranus\", \"moon\", \"mercury\", \"venus\", \"mars\", \"stellanova\"]"
   ]
  },
  {
   "cell_type": "code",
   "execution_count": 6,
   "metadata": {},
   "outputs": [
    {
     "ename": "NotImplementedError",
     "evalue": "Unknown space: `OrderedDict([('position', 0), ('velocity', array([[0.7338004 , 0.48042446],\n       [0.94172806, 0.5077621 ]], dtype=float32))])`",
     "output_type": "error",
     "traceback": [
      "\u001b[0;31m---------------------------------------------------------------------------\u001b[0m",
      "\u001b[0;31mNotImplementedError\u001b[0m                       Traceback (most recent call last)",
      "Cell \u001b[0;32mIn[6], line 2\u001b[0m\n\u001b[1;32m      1\u001b[0m space \u001b[39m=\u001b[39m Dict({\u001b[39m\"\u001b[39m\u001b[39mposition\u001b[39m\u001b[39m\"\u001b[39m: Discrete(\u001b[39m2\u001b[39m), \u001b[39m\"\u001b[39m\u001b[39mvelocity\u001b[39m\u001b[39m\"\u001b[39m: Box(\u001b[39m0\u001b[39m, \u001b[39m1\u001b[39m, shape\u001b[39m=\u001b[39m(\u001b[39m2\u001b[39m, \u001b[39m2\u001b[39m))}) \n\u001b[0;32m----> 2\u001b[0m utils\u001b[39m.\u001b[39;49mflatten_space(space\u001b[39m.\u001b[39;49msample())\n",
      "File \u001b[0;32m/usr/lib/python3.9/functools.py:877\u001b[0m, in \u001b[0;36msingledispatch.<locals>.wrapper\u001b[0;34m(*args, **kw)\u001b[0m\n\u001b[1;32m    873\u001b[0m \u001b[39mif\u001b[39;00m \u001b[39mnot\u001b[39;00m args:\n\u001b[1;32m    874\u001b[0m     \u001b[39mraise\u001b[39;00m \u001b[39mTypeError\u001b[39;00m(\u001b[39mf\u001b[39m\u001b[39m'\u001b[39m\u001b[39m{\u001b[39;00mfuncname\u001b[39m}\u001b[39;00m\u001b[39m requires at least \u001b[39m\u001b[39m'\u001b[39m\n\u001b[1;32m    875\u001b[0m                     \u001b[39m'\u001b[39m\u001b[39m1 positional argument\u001b[39m\u001b[39m'\u001b[39m)\n\u001b[0;32m--> 877\u001b[0m \u001b[39mreturn\u001b[39;00m dispatch(args[\u001b[39m0\u001b[39;49m]\u001b[39m.\u001b[39;49m\u001b[39m__class__\u001b[39;49m)(\u001b[39m*\u001b[39;49margs, \u001b[39m*\u001b[39;49m\u001b[39m*\u001b[39;49mkw)\n",
      "File \u001b[0;32m~/astro2/.venv/lib/python3.9/site-packages/gymnasium/spaces/utils.py:463\u001b[0m, in \u001b[0;36mflatten_space\u001b[0;34m(space)\u001b[0m\n\u001b[1;32m    399\u001b[0m \u001b[39m@singledispatch\u001b[39m\n\u001b[1;32m    400\u001b[0m \u001b[39mdef\u001b[39;00m \u001b[39mflatten_space\u001b[39m(space: Space[Any]) \u001b[39m-\u001b[39m\u001b[39m>\u001b[39m Box \u001b[39m|\u001b[39m Dict \u001b[39m|\u001b[39m Sequence \u001b[39m|\u001b[39m Tuple \u001b[39m|\u001b[39m Graph:\n\u001b[1;32m    401\u001b[0m \u001b[39m    \u001b[39m\u001b[39m\"\"\"Flatten a space into a space that is as flat as possible.\u001b[39;00m\n\u001b[1;32m    402\u001b[0m \n\u001b[1;32m    403\u001b[0m \u001b[39m    This function will attempt to flatten ``space`` into a single :class:`gymnasium.spaces.Box` space.\u001b[39;00m\n\u001b[0;32m   (...)\u001b[0m\n\u001b[1;32m    461\u001b[0m \u001b[39m        True\u001b[39;00m\n\u001b[1;32m    462\u001b[0m \u001b[39m    \"\"\"\u001b[39;00m\n\u001b[0;32m--> 463\u001b[0m     \u001b[39mraise\u001b[39;00m \u001b[39mNotImplementedError\u001b[39;00m(\u001b[39mf\u001b[39m\u001b[39m\"\u001b[39m\u001b[39mUnknown space: `\u001b[39m\u001b[39m{\u001b[39;00mspace\u001b[39m}\u001b[39;00m\u001b[39m`\u001b[39m\u001b[39m\"\u001b[39m)\n",
      "\u001b[0;31mNotImplementedError\u001b[0m: Unknown space: `OrderedDict([('position', 0), ('velocity', array([[0.7338004 , 0.48042446],\n       [0.94172806, 0.5077621 ]], dtype=float32))])`"
     ]
    }
   ],
   "source": [
    "space = Dict({\"position\": Discrete(2), \"velocity\": Box(0, 1, shape=(2, 2))}) \n",
    "utils.flatten_space(space.sample())"
   ]
  },
  {
   "cell_type": "code",
   "execution_count": 2,
   "metadata": {},
   "outputs": [
    {
     "ename": "NameError",
     "evalue": "name 'Discrete' is not defined",
     "output_type": "error",
     "traceback": [
      "\u001b[0;31m---------------------------------------------------------------------------\u001b[0m",
      "\u001b[0;31mNameError\u001b[0m                                 Traceback (most recent call last)",
      "Cell \u001b[0;32mIn[2], line 1\u001b[0m\n\u001b[0;32m----> 1\u001b[0m spacy \u001b[39m=\u001b[39m Dict({\u001b[39m\"\u001b[39m\u001b[39mposition\u001b[39m\u001b[39m\"\u001b[39m: Box(\u001b[39m-\u001b[39m\u001b[39m1\u001b[39m, \u001b[39m1\u001b[39m, shape\u001b[39m=\u001b[39m(\u001b[39m2\u001b[39m,)), \u001b[39m\"\u001b[39m\u001b[39mcolor\u001b[39m\u001b[39m\"\u001b[39m: Discrete(\u001b[39m3\u001b[39m)}, seed\u001b[39m=\u001b[39m\u001b[39m42\u001b[39m)\n",
      "\u001b[0;31mNameError\u001b[0m: name 'Discrete' is not defined"
     ]
    }
   ],
   "source": [
    "spacy = Dict({\"position\": Box(-1, 1, shape=(2,)), \"color\": Discrete(3)}, seed=42)"
   ]
  },
  {
   "cell_type": "code",
   "execution_count": 31,
   "metadata": {},
   "outputs": [],
   "source": [
    "maximum_x = 0\n",
    "minimum_x = 0\n",
    "maximum_y = 0\n",
    "minimum_y = 0\n",
    "for i in range(myEnv.position_data_XY.shape[0]):\n",
    "    xmax = max(myEnv.position_data_XY[i][:, 0])\n",
    "    xmin = min(myEnv.position_data_XY[i][:, 0])\n",
    "    ymax = max(myEnv.position_data_XY[i][:, 1])\n",
    "    ymin = min(myEnv.position_data_XY[i][:, 1])\n",
    "    if xmax > maximum_x:\n",
    "        maximum_x = xmax\n",
    "    if xmin < minimum_x:\n",
    "        minimum_x = xmin\n",
    "    if ymax > maximum_y:\n",
    "        maximum_y = ymax\n",
    "    if ymin < minimum_y:\n",
    "        minimum_y = ymin"
   ]
  },
  {
   "cell_type": "code",
   "execution_count": 35,
   "metadata": {},
   "outputs": [
    {
     "data": {
      "text/plain": [
       "-1197.3098"
      ]
     },
     "execution_count": 35,
     "metadata": {},
     "output_type": "execute_result"
    }
   ],
   "source": [
    "minimum_y"
   ]
  },
  {
   "cell_type": "code",
   "execution_count": 4,
   "metadata": {},
   "outputs": [],
   "source": [
    "from __future__ import annotations\n",
    "from typing import List, Dict\n",
    "import math\n",
    "import numpy as np\n",
    " \n",
    "class Planet:\n",
    "    def __init__(self, name: str, starting_position: np.ndarray, trajectory: List):\n",
    "        self.name: str = name\n",
    "        self.trajectory: List = trajectory\n",
    "        self.planets: List[Planet] = []\n",
    "        self.starting_position: np.ndarray = starting_position\n",
    "        self.position: np.ndarray = starting_position\n",
    "        self.ideal_postion: np.ndarray = None\n",
    "        self.next_position: np.ndarray = None\n",
    "        self.distance_to_other_planets: List[np.ndarray] = []\n",
    "        self.current_step = 0\n",
    "        self.deviation: np.float32 = 0\n",
    "        self.distance_to_ideal_position: np.float32 = 0\n",
    "        self.distance_to_nearest_planet: np.float32 = 0\n",
    "    \n",
    "    def set_other_planets(self, other_planets: List) -> List[Planet]:\n",
    "        self.planets = other_planets\n",
    "        \n",
    "    def get_ideal_position(self):\n",
    "        ideal_position = self.trajectory[self.current_step]\n",
    "        self.ideal_postion = ideal_position\n",
    "\n",
    "    def get_direction(self):\n",
    "        raise NotImplementedError\n",
    "\n",
    "    def get_distance_to_other_planets(self) -> Dict[str, np.float32]:\n",
    "        dist_dict = {}\n",
    "        for planet in self.planets:\n",
    "            if planet.name != self.name:\n",
    "                distance = math.dist(self.position, planet.position)\n",
    "                dist_dict[planet.name] = distance\n",
    "        return dist_dict\n",
    "\n",
    "    def get_next_position(self, action: int) -> np.ndarray:\n",
    "        deviation = self.get_deviation(action)\n",
    "        if self.deviation < 10:\n",
    "            self.deviation += deviation\n",
    "\n",
    "        if self.current_step < len(self.trajectory) - 1:\n",
    "            next_y: np.float32 = self.trajectory[self.current_step+1][1] + self.deviation\n",
    "            next_position = np.array([self.current_step+1, next_y], dtype=np.float32)\n",
    "        else:\n",
    "            next_position = self.starting_position\n",
    "        return next_position\n",
    "\n",
    "    def update_current_step(self):\n",
    "        self.current_step = self.current_step + 1\n",
    "    \n",
    "    def get_deviation(self, action: int) -> np.float32:\n",
    "        if action==1:\n",
    "            deviation = -0.1\n",
    "        elif action==2:\n",
    "            deviation = 0.1\n",
    "        else:\n",
    "            deviation = 0\n",
    "        return deviation\n",
    "\n",
    "    def get_distance_to_ideal_position(self) -> np.float32:\n",
    "        self.get_ideal_position()\n",
    "        distance: np.float32 = math.dist(self.position, self.ideal_postion)\n",
    "        return distance\n",
    "\n",
    "    def update_position(self, action: int):\n",
    "        self.position = self.get_next_position(action)\n",
    "    \n"
   ]
  },
  {
   "attachments": {},
   "cell_type": "markdown",
   "metadata": {},
   "source": [
    "### Creating trajectories"
   ]
  },
  {
   "cell_type": "code",
   "execution_count": 6,
   "metadata": {},
   "outputs": [],
   "source": [
    "def get_point(x: float, a: float, b: float) -> np.array:\n",
    "\n",
    "    root_number = (1-(x**2/a**2))*b**2\n",
    "    if root_number < 0:\n",
    "        root_number*-1\n",
    "        y = np.sqrt(root_number)\n",
    "        return np.array([x, -y])\n",
    "    else:\n",
    "        y = np.sqrt(root_number)\n",
    "        return np.array([x, y]) "
   ]
  },
  {
   "cell_type": "code",
   "execution_count": 11,
   "metadata": {},
   "outputs": [],
   "source": [
    "a_1 = 32\n",
    "b_1 = 4.8\n",
    "trajectory_1 = []\n",
    "for i in range(-32,33):\n",
    "    trajectory_1.append(np.round(get_point(x=i, a=a_1, b=b_1), 2))\n",
    "\n",
    "trajectory_earth = trajectory_1.copy()\n",
    "for el in trajectory_1:\n",
    "    if el[0]==32 or el[0]==-32:\n",
    "        continue\n",
    "    else:\n",
    "        trajectory_earth.append(np.array([-el[0], -el[1]]))\n",
    "\n",
    "a_2 = 16\n",
    "b_2 = 8.9\n",
    "trajectory_2 = []\n",
    "for i in range(-16,17\n",
    "               ):\n",
    "    trajectory_2.append(np.round(get_point(x=i, a=a_2, b=b_2), 2))\n",
    "\n",
    "trajectory_venus = trajectory_2.copy()\n",
    "for el in trajectory_2:\n",
    "    if el[0]==16 or el[0]==-16:\n",
    "        continue\n",
    "    else:\n",
    "        trajectory_venus.append(np.array([-el[0], -el[1]]))\n",
    "\n",
    "#setteing starting point to zero\n",
    "new_earth_1 = trajectory_earth[32:]\n",
    "new_earth_2 = trajectory_earth[0:32]\n",
    "final_trajectory_earth = new_earth_1 + new_earth_2\n",
    "\n",
    "new_venus_1 = trajectory_venus[16:]\n",
    "new_venus_2 = trajectory_venus[0:16]\n",
    "final_trajectory_venus = new_venus_1 + new_venus_2 + new_venus_1 + new_venus_2\n"
   ]
  },
  {
   "attachments": {},
   "cell_type": "markdown",
   "metadata": {},
   "source": [
    "### Adding the planets"
   ]
  },
  {
   "cell_type": "code",
   "execution_count": 12,
   "metadata": {},
   "outputs": [],
   "source": [
    "earth = Planet(name=\"earth\", starting_position=np.array([0, 4.8]), trajectory=final_trajectory_earth)\n",
    "venus = Planet(name=\"venus\", starting_position=np.array([0, 8.9]), trajectory=final_trajectory_venus)"
   ]
  },
  {
   "cell_type": "code",
   "execution_count": 20,
   "metadata": {},
   "outputs": [
    {
     "data": {
      "text/plain": [
       "{'earth': 4.1000000000000005}"
      ]
     },
     "execution_count": 20,
     "metadata": {},
     "output_type": "execute_result"
    }
   ],
   "source": [
    "venus.get_distance_to_other_planets()"
   ]
  },
  {
   "cell_type": "code",
   "execution_count": 24,
   "metadata": {},
   "outputs": [
    {
     "data": {
      "text/plain": [
       "[array([-32.,   0.]),\n",
       " array([-31.  ,   1.19]),\n",
       " array([-30.  ,   1.67]),\n",
       " array([-29.  ,   2.03]),\n",
       " array([-28.  ,   2.32]),\n",
       " array([-27.  ,   2.58]),\n",
       " array([-26. ,   2.8]),\n",
       " array([-25.,   3.]),\n",
       " array([-24.  ,   3.17]),\n",
       " array([-23.  ,   3.34]),\n",
       " array([-22.  ,   3.49]),\n",
       " array([-21.  ,   3.62]),\n",
       " array([-20.  ,   3.75]),\n",
       " array([-19.  ,   3.86]),\n",
       " array([-18.  ,   3.97]),\n",
       " array([-17.  ,   4.07]),\n",
       " array([-16.  ,   4.16]),\n",
       " array([-15.  ,   4.24]),\n",
       " array([-14.  ,   4.32]),\n",
       " array([-13.  ,   4.39]),\n",
       " array([-12.  ,   4.45]),\n",
       " array([-11.  ,   4.51]),\n",
       " array([-10.  ,   4.56]),\n",
       " array([-9.  ,  4.61]),\n",
       " array([-8.  ,  4.65]),\n",
       " array([-7.  ,  4.68]),\n",
       " array([-6.  ,  4.71]),\n",
       " array([-5.  ,  4.74]),\n",
       " array([-4.  ,  4.76]),\n",
       " array([-3.  ,  4.78]),\n",
       " array([-2.  ,  4.79]),\n",
       " array([-1. ,  4.8]),\n",
       " array([0. , 4.8]),\n",
       " array([1. , 4.8]),\n",
       " array([2.  , 4.79]),\n",
       " array([3.  , 4.78]),\n",
       " array([4.  , 4.76]),\n",
       " array([5.  , 4.74]),\n",
       " array([6.  , 4.71]),\n",
       " array([7.  , 4.68]),\n",
       " array([8.  , 4.65]),\n",
       " array([9.  , 4.61]),\n",
       " array([10.  ,  4.56]),\n",
       " array([11.  ,  4.51]),\n",
       " array([12.  ,  4.45]),\n",
       " array([13.  ,  4.39]),\n",
       " array([14.  ,  4.32]),\n",
       " array([15.  ,  4.24]),\n",
       " array([16.  ,  4.16]),\n",
       " array([17.  ,  4.07]),\n",
       " array([18.  ,  3.97]),\n",
       " array([19.  ,  3.86]),\n",
       " array([20.  ,  3.75]),\n",
       " array([21.  ,  3.62]),\n",
       " array([22.  ,  3.49]),\n",
       " array([23.  ,  3.34]),\n",
       " array([24.  ,  3.17]),\n",
       " array([25.,  3.]),\n",
       " array([26. ,  2.8]),\n",
       " array([27.  ,  2.58]),\n",
       " array([28.  ,  2.32]),\n",
       " array([29.  ,  2.03]),\n",
       " array([30.  ,  1.67]),\n",
       " array([31.  ,  1.19]),\n",
       " array([32.,  0.]),\n",
       " array([31.  , -1.19]),\n",
       " array([30.  , -1.67]),\n",
       " array([29.  , -2.03]),\n",
       " array([28.  , -2.32]),\n",
       " array([27.  , -2.58]),\n",
       " array([26. , -2.8]),\n",
       " array([25., -3.]),\n",
       " array([24.  , -3.17]),\n",
       " array([23.  , -3.34]),\n",
       " array([22.  , -3.49]),\n",
       " array([21.  , -3.62]),\n",
       " array([20.  , -3.75]),\n",
       " array([19.  , -3.86]),\n",
       " array([18.  , -3.97]),\n",
       " array([17.  , -4.07]),\n",
       " array([16.  , -4.16]),\n",
       " array([15.  , -4.24]),\n",
       " array([14.  , -4.32]),\n",
       " array([13.  , -4.39]),\n",
       " array([12.  , -4.45]),\n",
       " array([11.  , -4.51]),\n",
       " array([10.  , -4.56]),\n",
       " array([ 9.  , -4.61]),\n",
       " array([ 8.  , -4.65]),\n",
       " array([ 7.  , -4.68]),\n",
       " array([ 6.  , -4.71]),\n",
       " array([ 5.  , -4.74]),\n",
       " array([ 4.  , -4.76]),\n",
       " array([ 3.  , -4.78]),\n",
       " array([ 2.  , -4.79]),\n",
       " array([ 1. , -4.8]),\n",
       " array([-0. , -4.8]),\n",
       " array([-1. , -4.8]),\n",
       " array([-2.  , -4.79]),\n",
       " array([-3.  , -4.78]),\n",
       " array([-4.  , -4.76]),\n",
       " array([-5.  , -4.74]),\n",
       " array([-6.  , -4.71]),\n",
       " array([-7.  , -4.68]),\n",
       " array([-8.  , -4.65]),\n",
       " array([-9.  , -4.61]),\n",
       " array([-10.  ,  -4.56]),\n",
       " array([-11.  ,  -4.51]),\n",
       " array([-12.  ,  -4.45]),\n",
       " array([-13.  ,  -4.39]),\n",
       " array([-14.  ,  -4.32]),\n",
       " array([-15.  ,  -4.24]),\n",
       " array([-16.  ,  -4.16]),\n",
       " array([-17.  ,  -4.07]),\n",
       " array([-18.  ,  -3.97]),\n",
       " array([-19.  ,  -3.86]),\n",
       " array([-20.  ,  -3.75]),\n",
       " array([-21.  ,  -3.62]),\n",
       " array([-22.  ,  -3.49]),\n",
       " array([-23.  ,  -3.34]),\n",
       " array([-24.  ,  -3.17]),\n",
       " array([-25.,  -3.]),\n",
       " array([-26. ,  -2.8]),\n",
       " array([-27.  ,  -2.58]),\n",
       " array([-28.  ,  -2.32]),\n",
       " array([-29.  ,  -2.03]),\n",
       " array([-30.  ,  -1.67]),\n",
       " array([-31.  ,  -1.19])]"
      ]
     },
     "execution_count": 24,
     "metadata": {},
     "output_type": "execute_result"
    }
   ],
   "source": [
    "earth.trajectory"
   ]
  },
  {
   "cell_type": "code",
   "execution_count": 51,
   "metadata": {},
   "outputs": [
    {
     "ename": "AttributeError",
     "evalue": "'list' object has no attribute 'set_xdata'",
     "output_type": "error",
     "traceback": [
      "\u001b[1;31m---------------------------------------------------------------------------\u001b[0m",
      "\u001b[1;31mAttributeError\u001b[0m                            Traceback (most recent call last)",
      "Cell \u001b[1;32mIn[51], line 10\u001b[0m\n\u001b[0;32m      8\u001b[0m venus \u001b[39m=\u001b[39m ax\u001b[39m.\u001b[39mplot(\u001b[39m5\u001b[39m, \u001b[39m5\u001b[39m, \u001b[39m'\u001b[39m\u001b[39mgo\u001b[39m\u001b[39m'\u001b[39m)\n\u001b[0;32m      9\u001b[0m \u001b[39mfor\u001b[39;00m i \u001b[39min\u001b[39;00m \u001b[39mrange\u001b[39m(\u001b[39m5\u001b[39m):\n\u001b[1;32m---> 10\u001b[0m     earth\u001b[39m.\u001b[39;49mset_xdata(i, i)\n\u001b[0;32m     11\u001b[0m     earth\u001b[39m.\u001b[39mset_ydata(\u001b[39m4\u001b[39m, \u001b[39m5\u001b[39m\u001b[39m-\u001b[39mi)\n\u001b[0;32m     13\u001b[0m     venus\u001b[39m.\u001b[39mset_xdata(\u001b[39m5\u001b[39m\u001b[39m-\u001b[39mi, \u001b[39m5\u001b[39m\u001b[39m-\u001b[39mi)\n",
      "\u001b[1;31mAttributeError\u001b[0m: 'list' object has no attribute 'set_xdata'"
     ]
    },
    {
     "data": {
      "image/png": "[encoded data removed]",
      "text/plain": [
       "<Figure size 640x480 with 1 Axes>"
      ]
     },
     "metadata": {},
     "output_type": "display_data"
    },
    {
     "ename": "",
     "evalue": "",
     "output_type": "error",
     "traceback": [
      "\u001b[1;31mThe Kernel crashed while executing code in the the current cell or a previous cell. Please review the code in the cell(s) to identify a possible cause of the failure. Click <a href='https://aka.ms/vscodeJupyterKernelCrash'>here</a> for more info. View Jupyter <a href='command:jupyter.viewOutput'>log</a> for further details."
     ]
    }
   ],
   "source": [
    "import time\n",
    "from IPython import display\n",
    "\n",
    "fig = plt.figure()\n",
    "plt.ion()\n",
    "ax = fig.add_subplot(111)\n",
    "earth = ax.plot(0, 0, 'bo')\n",
    "venus = ax.plot(5, 5, 'go')\n",
    "for i in range(5):\n",
    "    earth.set_xdata(i, i)\n",
    "    earth.set_ydata(4, 5-i)\n",
    "\n",
    "    venus.set_xdata(5-i, 5-i)\n",
    "\n",
    "    fig.canvas.draw()\n",
    "    \n",
    "    fig.canvas.flush_events()\n",
    "    time.sleep(0.1)"
   ]
  },
  {
   "cell_type": "code",
   "execution_count": 50,
   "metadata": {},
   "outputs": [
    {
     "data": {
      "image/png": "[encoded data removed]",
      "text/plain": [
       "<Figure size 1000x800 with 1 Axes>"
      ]
     },
     "metadata": {},
     "output_type": "display_data"
    }
   ],
   "source": [
    "# importing libraries\n",
    "import numpy as np\n",
    "import time\n",
    "import matplotlib.pyplot as plt\n",
    " \n",
    "# creating initial data values\n",
    "# of x and y\n",
    "x = np.linspace(0, 10, 100)\n",
    "y = np.sin(x)\n",
    " \n",
    "# to run GUI event loop\n",
    "plt.ion()\n",
    " \n",
    "# here we are creating sub plots\n",
    "figure, ax = plt.subplots(figsize=(10, 8))\n",
    "line1, = ax.plot(x, y)\n",
    " \n",
    "# setting title\n",
    "plt.title(\"Geeks For Geeks\", fontsize=20)\n",
    " \n",
    "# setting x-axis label and y-axis label\n",
    "plt.xlabel(\"X-axis\")\n",
    "plt.ylabel(\"Y-axis\")\n",
    " \n",
    "# Loop\n",
    "for _ in range(50):\n",
    "    # creating new Y values\n",
    "    new_y = np.sin(x-0.5*_)\n",
    " \n",
    "    # updating data values\n",
    "    line1.set_xdata(x)\n",
    "    line1.set_ydata(new_y)\n",
    " \n",
    "    # drawing updated values\n",
    "    figure.canvas.draw()\n",
    " \n",
    "    # This will run the GUI event\n",
    "    # loop until all UI events\n",
    "    # currently waiting have been processed\n",
    "    figure.canvas.flush_events()\n",
    " \n",
    "    time.sleep(0.1)"
   ]
  },
  {
   "attachments": {},
   "cell_type": "markdown",
   "metadata": {},
   "source": [
    "### Setting up test env\n",
    "\n",
    "The observation space is a box of of dimension (2, 4) - two rows and four columns.<br>\n",
    "The rows represent planets, and the columns represent:<br>\n",
    "\n",
    "0. planet position, x-coordinate\n",
    "1. planet position, y-coordinate\n",
    "2. distance to nearest planet\n",
    "3. distance to ideal position\n",
    "\n",
    "The state of the environment is a (2, 4) np.array matching the observation space described above"
   ]
  },
  {
   "cell_type": "code",
   "execution_count": 27,
   "metadata": {},
   "outputs": [],
   "source": [
    "class StarViz:\n",
    "    def __init__(self, planets: List[Planet]) -> None:\n",
    "        max_and_min = self.get_max_and_min()\n",
    "        self.figure = self.get_fig()\n",
    "\n",
    "    def get_fig(self):\n",
    "        fig = plt.figure()\n",
    "        plt.xlim(self.max_and_min[\"min_x\"], self.get_max_and_min[\"max_x\"])\n",
    "        plt.ylim(self.max_and_min[\"min_y\"], self.get_max_and_min[\"max_y\"])\n",
    "    \n",
    "    def get_max_and_min(self) -> Dict[str, int]:\n",
    "        positions = self.concat_positions()\n",
    "        min_x = 0\n",
    "        max_x = 0\n",
    "        min_y = 0\n",
    "        max_y = 0\n",
    "        for position in positions:\n",
    "            if position[0] < min_x:\n",
    "                min_x = position[0]\n",
    "            elif position[0] > max_x:\n",
    "                max_x = position[0]\n",
    "            \n",
    "            if position[1] < min_y:\n",
    "                min_y = position[1]\n",
    "            elif position[1] > max_y:\n",
    "                max_y = position[1]\n",
    "        \n",
    "        return {\n",
    "            \"min_x\": min_x,\n",
    "            \"max_x\": max_x,\n",
    "            \"min_y\": min_y,\n",
    "            \"max_y\": max_y\n",
    "        }\n",
    "\n",
    "    def concat_positions(self) -> List: \n",
    "        positions = []\n",
    "        for planet in self.planets:\n",
    "            positions = positions + planet.trajectory\n",
    "        return positions\n",
    "    \n",
    "    def plot(self):\n",
    "        "
   ]
  },
  {
   "cell_type": "code",
   "execution_count": 14,
   "metadata": {},
   "outputs": [],
   "source": [
    "class spaceEnv(Env):\n",
    "    metadata = {\"render_modes\": [\"human\", \"rgb_array\"], \"render_fps\": 2}\n",
    "    \n",
    "    def __init__(self, planets: List[Planet], render_mode: str) -> None:\n",
    "        self.action_space = MultiDiscrete([3, 3])\n",
    "        self.observation_space = Box(low=-100.0, high=100.0, shape=(2, 4), dtype=np.float32)\n",
    "        self.render_mode = render_mode\n",
    "        #set starting state\n",
    "        self.state: np.ndarray = np.array(\n",
    "                        [\n",
    "                    [0.0, 4.8, 4.1, 0.0],\n",
    "                    [0.0, 8.9 , 4.1, 0.0]          \n",
    "                ], dtype=np.float32\n",
    "            )\n",
    "        self.planets = planets\n",
    "        self.size: int = self.calculate_size()\n",
    "        self.current_step = 0\n",
    "        self.visualizer = StarViz(planets=self.planets)\n",
    "        self.clock = None\n",
    "    \n",
    "    def calculate_size(self) -> int:\n",
    "        x_positions = []\n",
    "        y_positions = []\n",
    "        for planet in self.planets:\n",
    "            for position in planet.trajectory:\n",
    "                x_positions.append(np.abs(position[0]))\n",
    "                y_positions.append(np.abs(position[1]))\n",
    "\n",
    "        return round(max([max(x_positions), max(y_positions)])) + 200\n",
    "    \n",
    "    def step(self, action: np.ndarray):\n",
    "        self.state = self.calculate_state(action)\n",
    "        obs: np.ndarray = self.state\n",
    "        if self.render_mode==\"human\":\n",
    "            self._render_frame()\n",
    "        reward = self.calculate_reward()\n",
    "        self.current_step+=1\n",
    "        self.update_planet_steps()\n",
    "        done = self.is_done()\n",
    "        info = {\n",
    "            \"venus\": {\n",
    "                \"name\": self.planets[0].name,\n",
    "                \"position\": self.planets[0].position,\n",
    "                \"distance_to_nearest\": self.planets[0].distance_to_nearest_planet,\n",
    "                \"deviation\": self.planets[0].deviation,\n",
    "                \"current_step\": self.planets[0].current_step\n",
    "            },\n",
    "    \n",
    "            \"earth\": {\n",
    "                \"name\": self.planets[1].name,\n",
    "                \"position\": self.planets[1].position,\n",
    "                \"distance_to_nearest\": self.planets[1].distance_to_nearest_planet,\n",
    "                \"deviation\": self.planets[1].deviation,\n",
    "                \"current_step\": self.planets[1].current_step\n",
    "            }, \n",
    "            \"step no\": self.current_step\n",
    "        }\n",
    "\n",
    "        return obs, reward, done, info\n",
    "\n",
    "    def render(self):\n",
    "        if self.render_mode == \"rgb_array\":\n",
    "            return self._render_frame()\n",
    "\n",
    "    def _render_frame(self):\n",
    "       \n",
    "\n",
    "        canvas = pygame.Surface((self.window_size, self.window_size))\n",
    "        canvas.fill((255, 255, 255))\n",
    "        pix_square_size = (\n",
    "            self.window_size / self.size\n",
    "        )  # The size of a single grid square in pixels\n",
    "\n",
    "        # Now we draw the planets\n",
    "        for planet in self.planets:\n",
    "            pygame.draw.circle(\n",
    "                canvas,\n",
    "                (0, 0, 255),\n",
    "                (planet.position + 0.5) * pix_square_size,\n",
    "                pix_square_size / 3,\n",
    "            )\n",
    "\n",
    "        # Finally, add some gridlines\n",
    "        for x in range(self.size + 1):\n",
    "            pygame.draw.line(\n",
    "                canvas,\n",
    "                0,\n",
    "                (0, pix_square_size * x),\n",
    "                (self.window_size, pix_square_size * x),\n",
    "                width=3,\n",
    "            )\n",
    "            pygame.draw.line(\n",
    "                canvas,\n",
    "                0,\n",
    "                (pix_square_size * x, 0),\n",
    "                (pix_square_size * x, self.window_size),\n",
    "                width=3,\n",
    "            )\n",
    "\n",
    "        if self.render_mode == \"human\":\n",
    "            # The following line copies our drawings from `canvas` to the visible window\n",
    "            self.window.blit(canvas, canvas.get_rect())\n",
    "            pygame.event.pump()\n",
    "            pygame.display.update()\n",
    "\n",
    "            # We need to ensure that human-rendering occurs at the predefined framerate.\n",
    "            # The following line will automatically add a delay to keep the framerate stable.\n",
    "            self.clock.tick(self.metadata[\"render_fps\"])\n",
    "        else:  # rgb_array\n",
    "            return np.transpose(\n",
    "                np.array(pygame.surfarray.pixels3d(canvas)), axes=(1, 0, 2)\n",
    "            )\n",
    "    \n",
    "    def reset(self):\n",
    "        self.state: np.ndarray = np.array(\n",
    "                        [\n",
    "                    [0.0, 4.8, 4.1, 0.0],\n",
    "                    [0.0, 8.9 , 4.1, 0.0]            \n",
    "                ],\n",
    "                dtype=np.float32\n",
    "            )\n",
    "        self.current_step = 0\n",
    "        for planet in self.planets:\n",
    "            planet.position = planet.starting_position\n",
    "            planet.deviation = 0.0\n",
    "            planet.current_step = 0\n",
    "        return self.state\n",
    "\n",
    "    def calculate_reward(self):\n",
    "        reward = 0\n",
    "        for planet in self.planets:\n",
    "            if np.abs(planet.distance_to_nearest_planet) > 5:\n",
    "                reward+=0\n",
    "                #print(\"distance_greater than five\")\n",
    "            else:\n",
    "                reward-=planet.distance_to_nearest_planet\n",
    "                #print(\"distance less than five\")\n",
    "                #print(f\"distanceto_idealposition for {planet} is {planet.distance_to_ideal_position}\")\n",
    "            if np.abs(planet.distance_to_ideal_position) > 0:\n",
    "                reward-=np.abs(planet.distance_to_ideal_position)\n",
    "                #print(\"distance to ideal less than five\")\n",
    "            else:\n",
    "                reward+=1\n",
    "            if np.abs(planet.distance_to_nearest_planet) < 0.1:\n",
    "                print(\"collision\")\n",
    "                reward-=100\n",
    "                \n",
    "        return reward\n",
    "\n",
    "    def calculate_state(self, action: np.ndarray) -> np.ndarray:\n",
    "        positions = []\n",
    "        for action_number, planet in enumerate(self.planets):\n",
    "            planet.update_position(action[action_number])\n",
    "            positions.append(planet.position)\n",
    "            planet.update_current_step()\n",
    "\n",
    "        distances = []\n",
    "        for planet in self.planets:\n",
    "            distance_to_nearest_planet: np.float32 = min(planet.get_distance_to_other_planets().values())      \n",
    "            planet.distance_to_nearest_planet = distance_to_nearest_planet\n",
    "            distance_to_ideal_position = planet.get_distance_to_ideal_position()\n",
    "            distances.append([\n",
    "                distance_to_nearest_planet,\n",
    "                distance_to_ideal_position\n",
    "            ])\n",
    "        \n",
    "        state_list = []\n",
    "        for i in range(len(self.planets)):\n",
    "            row = [positions[i][0], positions[i][1], distances[i][0], distances[i][1]]\n",
    "            state_list.append(row)\n",
    "        \n",
    "        return np.array(state_list, dtype=np.float32)\n",
    "    \n",
    "    def update_planet_steps(self):\n",
    "        for planet in self.planets:\n",
    "            if planet.current_step < len(planet.trajectory) - 1:\n",
    "                planet.current_step = self.current_step\n",
    "    \n",
    "    def is_done(self):\n",
    "        if self.current_step==127:\n",
    "            done = True\n",
    "        else:\n",
    "            done = False\n",
    "        return done\n",
    "        \n",
    "    "
   ]
  },
  {
   "attachments": {},
   "cell_type": "markdown",
   "metadata": {},
   "source": [
    "### Test env"
   ]
  },
  {
   "cell_type": "code",
   "execution_count": 18,
   "metadata": {},
   "outputs": [],
   "source": [
    "\n",
    "earth = Planet(name=\"earth\", starting_position=np.array([0, 4.8]), trajectory=trajectory_earth)\n",
    "venus = Planet(name=\"venus\", starting_position=np.array([0, 8.9]), trajectory=trajectory_venus)"
   ]
  },
  {
   "cell_type": "code",
   "execution_count": 19,
   "metadata": {},
   "outputs": [
    {
     "data": {
      "text/plain": [
       "array([[0. , 4.8, 4.1, 0. ],\n",
       "       [0. , 8.9, 4.1, 0. ]], dtype=float32)"
      ]
     },
     "execution_count": 19,
     "metadata": {},
     "output_type": "execute_result"
    }
   ],
   "source": [
    "planets = [earth, venus]\n",
    "\n",
    "earth.set_other_planets(planets)\n",
    "venus.set_other_planets(planets)\n",
    "\n",
    "env = spaceEnv(planets=planets, render_mode=\"human\")\n",
    "env.reset()"
   ]
  },
  {
   "cell_type": "code",
   "execution_count": 11,
   "metadata": {},
   "outputs": [
    {
     "name": "stderr",
     "output_type": "stream",
     "text": [
      "c:\\Users\\Marti\\astroClock\\astro\\lib\\site-packages\\stable_baselines3\\common\\env_checker.py:190: UserWarning: Your observation  has an unconventional shape (neither an image, nor a 1D vector). We recommend you to flatten the observation to have only a 1D vector or use a custom policy to properly process the data.\n",
      "  warnings.warn(\n",
      "C:\\Users\\Marti\\AppData\\Local\\Temp\\ipykernel_13756\\2306706097.py:91: DeprecationWarning: an integer is required (got type numpy.float32).  Implicit conversion to integers using __int__ is deprecated, and may be removed in a future version of Python.\n",
      "  pygame.draw.circle(\n"
     ]
    }
   ],
   "source": [
    "check_env(env, warn=True)"
   ]
  },
  {
   "cell_type": "code",
   "execution_count": 12,
   "metadata": {},
   "outputs": [
    {
     "data": {
      "text/plain": [
       "numpy.ndarray"
      ]
     },
     "execution_count": 12,
     "metadata": {},
     "output_type": "execute_result"
    }
   ],
   "source": []
  },
  {
   "cell_type": "code",
   "execution_count": 16,
   "metadata": {},
   "outputs": [
    {
     "name": "stderr",
     "output_type": "stream",
     "text": [
      "C:\\Users\\Marti\\AppData\\Local\\Temp\\ipykernel_9180\\2306706097.py:91: DeprecationWarning: an integer is required (got type numpy.float32).  Implicit conversion to integers using __int__ is deprecated, and may be removed in a future version of Python.\n",
      "  pygame.draw.circle(\n"
     ]
    },
    {
     "ename": "IndexError",
     "evalue": "list index out of range",
     "output_type": "error",
     "traceback": [
      "\u001b[1;31m---------------------------------------------------------------------------\u001b[0m",
      "\u001b[1;31mIndexError\u001b[0m                                Traceback (most recent call last)",
      "Cell \u001b[1;32mIn[16], line 11\u001b[0m\n\u001b[0;32m      9\u001b[0m     \u001b[39m# action = env.action_space.sample()\u001b[39;00m\n\u001b[0;32m     10\u001b[0m     action \u001b[39m=\u001b[39m [\u001b[39m0\u001b[39m, \u001b[39m0\u001b[39m]\n\u001b[1;32m---> 11\u001b[0m     n_state, reward, done, info \u001b[39m=\u001b[39m env\u001b[39m.\u001b[39;49mstep(action)\n\u001b[0;32m     12\u001b[0m     score\u001b[39m+\u001b[39m\u001b[39m=\u001b[39mreward\n\u001b[0;32m     13\u001b[0m \u001b[39mprint\u001b[39m(\u001b[39m'\u001b[39m\u001b[39mEpisode:\u001b[39m\u001b[39m{}\u001b[39;00m\u001b[39m Score:\u001b[39m\u001b[39m{}\u001b[39;00m\u001b[39m info\u001b[39m\u001b[39m{}\u001b[39;00m\u001b[39m'\u001b[39m\u001b[39m.\u001b[39mformat(episode, score, info))\n",
      "Cell \u001b[1;32mIn[11], line 40\u001b[0m, in \u001b[0;36mspaceEnv.step\u001b[1;34m(self, action)\u001b[0m\n\u001b[0;32m     39\u001b[0m \u001b[39mdef\u001b[39;00m \u001b[39mstep\u001b[39m(\u001b[39mself\u001b[39m, action: np\u001b[39m.\u001b[39mndarray):\n\u001b[1;32m---> 40\u001b[0m     \u001b[39mself\u001b[39m\u001b[39m.\u001b[39mstate \u001b[39m=\u001b[39m \u001b[39mself\u001b[39;49m\u001b[39m.\u001b[39;49mcalculate_state(action)\n\u001b[0;32m     41\u001b[0m     obs: np\u001b[39m.\u001b[39mndarray \u001b[39m=\u001b[39m \u001b[39mself\u001b[39m\u001b[39m.\u001b[39mstate\n\u001b[0;32m     42\u001b[0m     \u001b[39mif\u001b[39;00m \u001b[39mself\u001b[39m\u001b[39m.\u001b[39mrender_mode\u001b[39m==\u001b[39m\u001b[39m\"\u001b[39m\u001b[39mhuman\u001b[39m\u001b[39m\"\u001b[39m:\n",
      "Cell \u001b[1;32mIn[11], line 176\u001b[0m, in \u001b[0;36mspaceEnv.calculate_state\u001b[1;34m(self, action)\u001b[0m\n\u001b[0;32m    174\u001b[0m     distance_to_nearest_planet: np\u001b[39m.\u001b[39mfloat32 \u001b[39m=\u001b[39m \u001b[39mmin\u001b[39m(planet\u001b[39m.\u001b[39mget_distance_to_other_planets()\u001b[39m.\u001b[39mvalues())      \n\u001b[0;32m    175\u001b[0m     planet\u001b[39m.\u001b[39mdistance_to_nearest_planet \u001b[39m=\u001b[39m distance_to_nearest_planet\n\u001b[1;32m--> 176\u001b[0m     distance_to_ideal_position \u001b[39m=\u001b[39m planet\u001b[39m.\u001b[39;49mget_distance_to_ideal_position()\n\u001b[0;32m    177\u001b[0m     distances\u001b[39m.\u001b[39mappend([\n\u001b[0;32m    178\u001b[0m         distance_to_nearest_planet,\n\u001b[0;32m    179\u001b[0m         distance_to_ideal_position\n\u001b[0;32m    180\u001b[0m     ])\n\u001b[0;32m    182\u001b[0m state_list \u001b[39m=\u001b[39m []\n",
      "Cell \u001b[1;32mIn[6], line 64\u001b[0m, in \u001b[0;36mPlanet.get_distance_to_ideal_position\u001b[1;34m(self)\u001b[0m\n\u001b[0;32m     63\u001b[0m \u001b[39mdef\u001b[39;00m \u001b[39mget_distance_to_ideal_position\u001b[39m(\u001b[39mself\u001b[39m) \u001b[39m-\u001b[39m\u001b[39m>\u001b[39m np\u001b[39m.\u001b[39mfloat32:\n\u001b[1;32m---> 64\u001b[0m     \u001b[39mself\u001b[39;49m\u001b[39m.\u001b[39;49mget_ideal_position()\n\u001b[0;32m     65\u001b[0m     distance: np\u001b[39m.\u001b[39mfloat32 \u001b[39m=\u001b[39m math\u001b[39m.\u001b[39mdist(\u001b[39mself\u001b[39m\u001b[39m.\u001b[39mposition, \u001b[39mself\u001b[39m\u001b[39m.\u001b[39mideal_postion)\n\u001b[0;32m     66\u001b[0m     \u001b[39mreturn\u001b[39;00m distance\n",
      "Cell \u001b[1;32mIn[6], line 25\u001b[0m, in \u001b[0;36mPlanet.get_ideal_position\u001b[1;34m(self)\u001b[0m\n\u001b[0;32m     24\u001b[0m \u001b[39mdef\u001b[39;00m \u001b[39mget_ideal_position\u001b[39m(\u001b[39mself\u001b[39m):\n\u001b[1;32m---> 25\u001b[0m     ideal_position \u001b[39m=\u001b[39m \u001b[39mself\u001b[39;49m\u001b[39m.\u001b[39;49mtrajectory[\u001b[39mself\u001b[39;49m\u001b[39m.\u001b[39;49mcurrent_step]\n\u001b[0;32m     26\u001b[0m     \u001b[39mself\u001b[39m\u001b[39m.\u001b[39mideal_postion \u001b[39m=\u001b[39m ideal_position\n",
      "\u001b[1;31mIndexError\u001b[0m: list index out of range"
     ]
    }
   ],
   "source": [
    "episodes = 5\n",
    "for episode in range(1, episodes+1):\n",
    "    state = env.reset()\n",
    "    done = False\n",
    "    score = 0 \n",
    "    \n",
    "    while not done:\n",
    "        env.render()\n",
    "        # action = env.action_space.sample()\n",
    "        action = [0, 0]\n",
    "        n_state, reward, done, info = env.step(action)\n",
    "        score+=reward\n",
    "    print('Episode:{} Score:{} info{}'.format(episode, score, info))\n",
    "env.close()"
   ]
  },
  {
   "cell_type": "code",
   "execution_count": 64,
   "metadata": {},
   "outputs": [
    {
     "ename": "",
     "evalue": "",
     "output_type": "error",
     "traceback": [
      "\u001b[1;31mThe Kernel crashed while executing code in the the current cell or a previous cell. Please review the code in the cell(s) to identify a possible cause of the failure. Click <a href='https://aka.ms/vscodeJupyterKernelCrash'>here</a> for more info. View Jupyter <a href='command:jupyter.viewOutput'>log</a> for further details."
     ]
    }
   ],
   "source": [
    "env.close()"
   ]
  },
  {
   "cell_type": "code",
   "execution_count": 340,
   "metadata": {},
   "outputs": [
    {
     "data": {
      "text/plain": [
       "array([8.  , 7.71])"
      ]
     },
     "execution_count": 340,
     "metadata": {},
     "output_type": "execute_result"
    }
   ],
   "source": [
    "venus.trajectory[8]"
   ]
  },
  {
   "cell_type": "code",
   "execution_count": 371,
   "metadata": {},
   "outputs": [
    {
     "data": {
      "text/plain": [
       "array([14.  ,  4.31])"
      ]
     },
     "execution_count": 371,
     "metadata": {},
     "output_type": "execute_result"
    }
   ],
   "source": [
    "venus.trajectory[14]"
   ]
  },
  {
   "cell_type": "code",
   "execution_count": 47,
   "metadata": {},
   "outputs": [
    {
     "data": {
      "text/plain": [
       "array([[0. , 4.8, 4.1, 0. ],\n",
       "       [0. , 8.9, 4.1, 0. ]], dtype=float32)"
      ]
     },
     "execution_count": 47,
     "metadata": {},
     "output_type": "execute_result"
    }
   ],
   "source": [
    "env.reset()"
   ]
  },
  {
   "cell_type": "code",
   "execution_count": 398,
   "metadata": {},
   "outputs": [
    {
     "data": {
      "text/plain": [
       "-13.999999999999966"
      ]
     },
     "execution_count": 398,
     "metadata": {},
     "output_type": "execute_result"
    }
   ],
   "source": [
    "earth.deviation\n"
   ]
  },
  {
   "cell_type": "code",
   "execution_count": 48,
   "metadata": {},
   "outputs": [
    {
     "data": {
      "text/plain": [
       "(array([[1.00000000e+00, 4.80000019e+00, 4.07999992e+00, 1.90734866e-07],\n",
       "        [1.00000000e+00, 8.88000011e+00, 4.07999992e+00, 1.14440915e-07]],\n",
       "       dtype=float32),\n",
       " -6.159999847412109,\n",
       " False,\n",
       " {'venus': {'name': 'earth',\n",
       "   'position': array([1. , 4.8], dtype=float32),\n",
       "   'distance_to_nearest': 4.079999923706055,\n",
       "   'deviation': 0.0,\n",
       "   'current_step': 1},\n",
       "  'earth': {'name': 'venus',\n",
       "   'position': array([1.  , 8.88], dtype=float32),\n",
       "   'distance_to_nearest': 4.079999923706055,\n",
       "   'deviation': 0.0,\n",
       "   'current_step': 1},\n",
       "  'step no': 1})"
      ]
     },
     "execution_count": 48,
     "metadata": {},
     "output_type": "execute_result"
    }
   ],
   "source": [
    "env.step([0, 0])"
   ]
  },
  {
   "cell_type": "code",
   "execution_count": 49,
   "metadata": {},
   "outputs": [],
   "source": [
    "env.render()"
   ]
  }
 ],
 "metadata": {
  "kernelspec": {
   "display_name": "astro",
   "language": "python",
   "name": "python3"
  },
  "language_info": {
   "codemirror_mode": {
    "name": "ipython",
    "version": 3
   },
   "file_extension": ".py",
   "mimetype": "text/x-python",
   "name": "python",
   "nbconvert_exporter": "python",
   "pygments_lexer": "ipython3",
   "version": "3.9.2"
  },
  "orig_nbformat": 4,
  "vscode": {
   "interpreter": {
    "hash": "e57d3ece2c9b1b7e3ce02a3003ba13097bb65062e3c0dad712d437bcf97ad825"
   }
  }
 },
 "nbformat": 4,
 "nbformat_minor": 2
}
