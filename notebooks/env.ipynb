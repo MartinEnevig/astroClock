{
 "cells": [
  {
   "cell_type": "code",
   "execution_count": 1,
   "metadata": {},
   "outputs": [
    {
     "name": "stderr",
     "output_type": "stream",
     "text": [
      "c:\\Users\\Marti\\astroClock\\astro\\lib\\site-packages\\tqdm\\auto.py:21: TqdmWarning: IProgress not found. Please update jupyter and ipywidgets. See https://ipywidgets.readthedocs.io/en/stable/user_install.html\n",
      "  from .autonotebook import tqdm as notebook_tqdm\n"
     ]
    }
   ],
   "source": [
    "import gym\n",
    "from gym import Env\n",
    "from gym.spaces import MultiDiscrete, Box\n",
    "\n",
    "from stable_baselines3 import PPO\n",
    "from stable_baselines3.common.vec_env import VecFrameStack, DummyVecEnv\n",
    "from stable_baselines3.common.evaluation import evaluate_policy\n",
    "\n",
    "import numpy as np\n",
    "import os\n"
   ]
  },
  {
   "cell_type": "code",
   "execution_count": 81,
   "metadata": {},
   "outputs": [],
   "source": [
    "from __future__ import annotations\n",
    "from typing import List, Dict\n",
    "import math\n",
    "import numpy as np\n",
    " \n",
    "class Planet:\n",
    "    def __init__(self, name: str, position: np.array, trajectory: List):\n",
    "        self.name: str = name\n",
    "        self.trajectory: List = trajectory\n",
    "        self.planets: List[Planet] = []\n",
    "        self.position: np.array = position\n",
    "        self.ideal_postion: np.array = None\n",
    "        self.next_position: np.array = None\n",
    "        self.distance_to_other_planets: List[np.array] = []\n",
    "        self.current_step = 0\n",
    "        self.deviation: np.float32 = 0\n",
    "        self.distance_to_ideal_position: np.float32 = 0\n",
    "    \n",
    "    def set_other_planets(self, other_planets: List) -> List[Planet]:\n",
    "        self.planets = other_planets\n",
    "        \n",
    "    def get_ideal_position(self):\n",
    "        ideal_position = self.trajectory[self.current_step]\n",
    "        self.ideal_postion = ideal_position\n",
    "\n",
    "    def get_direction(self):\n",
    "        raise NotImplementedError\n",
    "\n",
    "    def get_distance_to_other_planets(self) -> Dict[str, np.array]:\n",
    "        dist_dict = {}\n",
    "        for planet in self.planets:\n",
    "            if planet.name != self.name:\n",
    "                distance = math.dist(self.position, planet.position)\n",
    "                dist_dict[planet.name] = distance\n",
    "        return dist_dict\n",
    "\n",
    "    def get_next_position(self, action) -> np.array:\n",
    "        deviation = self.get_deviation(action)\n",
    "        self.deviation += deviation\n",
    "        next_y = self.trajectory[self.current_step+1] + self.deviation\n",
    "        next_position = np.array([self.current_step + 1, next_y])\n",
    "        return next_position\n",
    "\n",
    "    def update_current_step(self):\n",
    "        self.current_step = self.current_step + 1\n",
    "    \n",
    "    def get_deviation(self, action: int) -> np.float32:\n",
    "        if action==1:\n",
    "            deviation = -0.1\n",
    "        elif action==2:\n",
    "            deviation = 0.1\n",
    "        else:\n",
    "            deviation==0\n",
    "        return deviation\n",
    "\n",
    "    def get_distance_to_ideal_position(self) -> np.float32:\n",
    "        self.get_ideal_position()\n",
    "        distance: np.float32 = math.dist(self.position, self.ideal_postion)\n",
    "        return distance\n",
    "\n",
    "    def update_position(self, action):\n",
    "        self.position = self.get_next_position(action)\n",
    "    \n"
   ]
  },
  {
   "attachments": {},
   "cell_type": "markdown",
   "metadata": {},
   "source": [
    "### Creating trajectories"
   ]
  },
  {
   "cell_type": "code",
   "execution_count": 27,
   "metadata": {},
   "outputs": [],
   "source": [
    "def get_point(x: float, h: float, w: float) -> np.array:\n",
    "    root_number = 1-(x**2/w**2)\n",
    "    if root_number < 0:\n",
    "        root_number*-1\n",
    "        y = h*np.sqrt(root_number)\n",
    "        return np.array([x, -y])\n",
    "    else:\n",
    "        y = h*np.sqrt(root_number)\n",
    "        return np.array([x, y]) "
   ]
  },
  {
   "cell_type": "code",
   "execution_count": 28,
   "metadata": {},
   "outputs": [],
   "source": [
    "h_1 = 5\n",
    "w_1 = 30\n",
    "trajectory_1 = []\n",
    "for i in range(-30,31):\n",
    "    trajectory_1.append(get_point(x=i, h=h_1, w=w_1))\n",
    "\n",
    "trajectory_earth = trajectory_1.copy()\n",
    "for el in trajectory_1:\n",
    "    if el[0]==30 or el[0]==-30:\n",
    "        continue\n",
    "    else:\n",
    "        trajectory_earth.append(np.array([-el[0], -el[1]]))\n",
    "    \n",
    "\n",
    "h_2 = 10\n",
    "w_2 = 15\n",
    "trajectory_2 = []\n",
    "for i in range(-30,31\n",
    "               ):\n",
    "    trajectory_2.append(get_point(x=i/2, h=h_2, w=w_2))\n",
    "\n",
    "trajectory_venus = trajectory_2.copy()\n",
    "for el in trajectory_2:\n",
    "    if el[0]==15 or el[0]==-15:\n",
    "        continue\n",
    "    else:\n",
    "        trajectory_venus.append(np.array([-el[0], -el[1]]))\n",
    "\n",
    "\n"
   ]
  },
  {
   "attachments": {},
   "cell_type": "markdown",
   "metadata": {},
   "source": [
    "### Adding the planets"
   ]
  },
  {
   "cell_type": "code",
   "execution_count": 82,
   "metadata": {},
   "outputs": [],
   "source": [
    "earth = Planet(name=\"earth\", position=np.array([-30, 0]), trajectory=trajectory_earth)\n",
    "venus = Planet(name=\"venus\", position=np.array([-15, 0]), trajectory=trajectory_venus)"
   ]
  },
  {
   "cell_type": "code",
   "execution_count": 83,
   "metadata": {},
   "outputs": [],
   "source": [
    "planets = [earth, venus]\n",
    "\n",
    "earth.set_other_planets(planets)\n",
    "venus.set_other_planets(planets)\n"
   ]
  },
  {
   "cell_type": "code",
   "execution_count": 65,
   "metadata": {},
   "outputs": [
    {
     "data": {
      "text/plain": [
       "{'earth': 15.0}"
      ]
     },
     "execution_count": 65,
     "metadata": {},
     "output_type": "execute_result"
    }
   ],
   "source": [
    "venus.get_distance_to_other_planets()"
   ]
  },
  {
   "attachments": {},
   "cell_type": "markdown",
   "metadata": {},
   "source": [
    "### Setting up env shell\n",
    "\n",
    "The observation space is a box of of dimension (2, 4) - two rows and four columns.<br>\n",
    "The rows represent planets, and the columns represent:<br>\n",
    "\n",
    "0. planet position, x-coordinate\n",
    "1. planet position, y-coordinate\n",
    "2. distance to nearest planet\n",
    "3. distance to ideal position\n",
    "\n",
    "The state of the environment is a (2, 4) np.array matching the observation space described above"
   ]
  },
  {
   "cell_type": "code",
   "execution_count": 84,
   "metadata": {},
   "outputs": [
    {
     "ename": "IndentationError",
     "evalue": "expected an indented block (646351097.py, line 29)",
     "output_type": "error",
     "traceback": [
      "\u001b[1;36m  Cell \u001b[1;32mIn[84], line 29\u001b[1;36m\u001b[0m\n\u001b[1;33m    \u001b[0m\n\u001b[1;37m    ^\u001b[0m\n\u001b[1;31mIndentationError\u001b[0m\u001b[1;31m:\u001b[0m expected an indented block\n"
     ]
    }
   ],
   "source": [
    "class spaceEnv(Env):\n",
    "    def __init__(self, planets: List[Planet]) -> None:\n",
    "        self.action_space = MultiDiscrete([3, 3])\n",
    "        self.observation_space = Box(low=-40.0, high=40.0, shape=(2, 4), dtype=np.float32)\n",
    "        #set starting state\n",
    "        self.state = np.array(\n",
    "                        [\n",
    "                    [-15.0, 0.0, 15.0, 0.0],\n",
    "                    [-30.0, 0.0 , 15.0, 0.0]          \n",
    "                ]\n",
    "            )\n",
    "        self.planets = planets\n",
    "    \n",
    "    def step(self, action):\n",
    "        new_state = self.calculate_state(action)\n",
    "        return self.state, reward, done, info\n",
    "\n",
    "    def render(self):\n",
    "        pass\n",
    "    \n",
    "    def reset(self):\n",
    "        pass\n",
    "\n",
    "    def calculate_reward():\n",
    "        pass\n",
    "\n",
    "    def calculate_state(action):\n",
    "        \n",
    "        "
   ]
  },
  {
   "cell_type": "code",
   "execution_count": 25,
   "metadata": {},
   "outputs": [
    {
     "data": {
      "text/plain": [
       "array([[  7.8146143,  -2.3182938, -36.068714 ],\n",
       "       [-31.500095 ,   0.4114863, -13.385839 ]], dtype=float32)"
      ]
     },
     "execution_count": 25,
     "metadata": {},
     "output_type": "execute_result"
    }
   ],
   "source": [
    "state = Box(low=-40.0, high=40.0, shape=(2, 3), dtype=np.float32)\n"
   ]
  },
  {
   "attachments": {},
   "cell_type": "markdown",
   "metadata": {},
   "source": [
    "### Helper funtions"
   ]
  },
  {
   "cell_type": "code",
   "execution_count": 80,
   "metadata": {},
   "outputs": [
    {
     "data": {
      "text/plain": [
       "1"
      ]
     },
     "execution_count": 80,
     "metadata": {},
     "output_type": "execute_result"
    }
   ],
   "source": [
    "acti = MultiDiscrete([3, 3])\n",
    "tester = acti.sample()\n",
    "tester[1]"
   ]
  }
 ],
 "metadata": {
  "kernelspec": {
   "display_name": "astro",
   "language": "python",
   "name": "python3"
  },
  "language_info": {
   "codemirror_mode": {
    "name": "ipython",
    "version": 3
   },
   "file_extension": ".py",
   "mimetype": "text/x-python",
   "name": "python",
   "nbconvert_exporter": "python",
   "pygments_lexer": "ipython3",
   "version": "3.9.7"
  },
  "orig_nbformat": 4
 },
 "nbformat": 4,
 "nbformat_minor": 2
}
