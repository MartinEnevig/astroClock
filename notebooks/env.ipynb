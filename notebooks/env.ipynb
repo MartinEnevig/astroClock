{
 "cells": [
  {
   "cell_type": "code",
   "execution_count": 3,
   "metadata": {},
   "outputs": [
    {
     "name": "stderr",
     "output_type": "stream",
     "text": [
      "c:\\Users\\Marti\\astroClock\\astro\\lib\\site-packages\\tqdm\\auto.py:21: TqdmWarning: IProgress not found. Please update jupyter and ipywidgets. See https://ipywidgets.readthedocs.io/en/stable/user_install.html\n",
      "  from .autonotebook import tqdm as notebook_tqdm\n"
     ]
    }
   ],
   "source": [
    "import gym\n",
    "from gym import Env\n",
    "from gym.spaces import MultiDiscrete, Box\n",
    "\n",
    "from stable_baselines3 import PPO\n",
    "from stable_baselines3.common.vec_env import VecFrameStack, DummyVecEnv\n",
    "from stable_baselines3.common.evaluation import evaluate_policy\n",
    "from stable_baselines3.common.env_checker import check_env\n",
    "\n",
    "import numpy as np\n",
    "import os\n"
   ]
  },
  {
   "cell_type": "code",
   "execution_count": 350,
   "metadata": {},
   "outputs": [],
   "source": [
    "from __future__ import annotations\n",
    "from typing import List, Dict\n",
    "import math\n",
    "import numpy as np\n",
    " \n",
    "class Planet:\n",
    "    def __init__(self, name: str, starting_position: np.ndarray, trajectory: List):\n",
    "        self.name: str = name\n",
    "        self.trajectory: List = trajectory\n",
    "        self.planets: List[Planet] = []\n",
    "        self.starting_position: np.ndarray = starting_position\n",
    "        self.position: np.ndarray = starting_position\n",
    "        self.ideal_postion: np.ndarray = None\n",
    "        self.next_position: np.ndarray = None\n",
    "        self.distance_to_other_planets: List[np.ndarray] = []\n",
    "        self.current_step = 0\n",
    "        self.deviation: np.float32 = 0\n",
    "        self.distance_to_ideal_position: np.float32 = 0\n",
    "        self.distance_to_nearest_planet: np.float32 = 0\n",
    "    \n",
    "    def set_other_planets(self, other_planets: List) -> List[Planet]:\n",
    "        self.planets = other_planets\n",
    "        \n",
    "    def get_ideal_position(self):\n",
    "        ideal_position = self.trajectory[self.current_step]\n",
    "        self.ideal_postion = ideal_position\n",
    "\n",
    "    def get_direction(self):\n",
    "        raise NotImplementedError\n",
    "\n",
    "    def get_distance_to_other_planets(self) -> Dict[str, np.float32]:\n",
    "        dist_dict = {}\n",
    "        for planet in self.planets:\n",
    "            if planet.name != self.name:\n",
    "                distance = math.dist(self.position, planet.position)\n",
    "                dist_dict[planet.name] = distance\n",
    "        return dist_dict\n",
    "\n",
    "    def get_next_position(self, action: int) -> np.ndarray:\n",
    "        deviation = self.get_deviation(action)\n",
    "        if self.deviation < 10:\n",
    "            self.deviation += deviation\n",
    "\n",
    "        if self.current_step < len(self.trajectory) - 1:\n",
    "            next_y: np.float32 = self.trajectory[self.current_step+1][1] + self.deviation\n",
    "            next_position = np.array([self.current_step+1, next_y], dtype=np.float32)\n",
    "        else:\n",
    "            next_position = self.starting_position\n",
    "        return next_position\n",
    "\n",
    "    def update_current_step(self):\n",
    "        self.current_step = self.current_step + 1\n",
    "    \n",
    "    def get_deviation(self, action: int) -> np.float32:\n",
    "        if action==1:\n",
    "            deviation = -0.1\n",
    "        elif action==2:\n",
    "            deviation = 0.1\n",
    "        else:\n",
    "            deviation = 0\n",
    "        return deviation\n",
    "\n",
    "    def get_distance_to_ideal_position(self) -> np.float32:\n",
    "        self.get_ideal_position()\n",
    "        distance: np.float32 = math.dist(self.position, self.ideal_postion)\n",
    "        return distance\n",
    "\n",
    "    def update_position(self, action: int):\n",
    "        self.position = self.get_next_position(action)\n",
    "    \n"
   ]
  },
  {
   "cell_type": "code",
   "execution_count": 258,
   "metadata": {},
   "outputs": [
    {
     "ename": "IndexError",
     "evalue": "list index out of range",
     "output_type": "error",
     "traceback": [
      "\u001b[1;31m---------------------------------------------------------------------------\u001b[0m",
      "\u001b[1;31mIndexError\u001b[0m                                Traceback (most recent call last)",
      "Cell \u001b[1;32mIn[258], line 1\u001b[0m\n\u001b[1;32m----> 1\u001b[0m earth\u001b[39m.\u001b[39;49mtrajectory[\u001b[39m128\u001b[39;49m]\n",
      "\u001b[1;31mIndexError\u001b[0m: list index out of range"
     ]
    }
   ],
   "source": []
  },
  {
   "attachments": {},
   "cell_type": "markdown",
   "metadata": {},
   "source": [
    "### Creating trajectories"
   ]
  },
  {
   "cell_type": "code",
   "execution_count": 5,
   "metadata": {},
   "outputs": [],
   "source": [
    "def get_point(x: float, a: float, b: float) -> np.array:\n",
    "\n",
    "    root_number = (1-(x**2/a**2))*b**2\n",
    "    if root_number < 0:\n",
    "        root_number*-1\n",
    "        y = np.sqrt(root_number)\n",
    "        return np.array([x, -y])\n",
    "    else:\n",
    "        y = np.sqrt(root_number)\n",
    "        return np.array([x, y]) "
   ]
  },
  {
   "cell_type": "code",
   "execution_count": 87,
   "metadata": {},
   "outputs": [],
   "source": [
    "a_1 = 32\n",
    "b_1 = 4.8\n",
    "trajectory_1 = []\n",
    "for i in range(-32,33):\n",
    "    trajectory_1.append(np.round(get_point(x=i, a=a_1, b=b_1), 2))\n",
    "\n",
    "trajectory_earth = trajectory_1.copy()\n",
    "for el in trajectory_1:\n",
    "    if el[0]==32 or el[0]==-32:\n",
    "        continue\n",
    "    else:\n",
    "        trajectory_earth.append(np.array([-el[0], -el[1]]))\n",
    "\n",
    "a_2 = 16\n",
    "b_2 = 8.9\n",
    "trajectory_2 = []\n",
    "for i in range(-16,17\n",
    "               ):\n",
    "    trajectory_2.append(np.round(get_point(x=i, a=a_2, b=b_2), 2))\n",
    "\n",
    "trajectory_venus = trajectory_2.copy()\n",
    "for el in trajectory_2:\n",
    "    if el[0]==16 or el[0]==-16:\n",
    "        continue\n",
    "    else:\n",
    "        trajectory_venus.append(np.array([-el[0], -el[1]]))\n",
    "\n",
    "#setteing starting point to zero\n",
    "new_earth_1 = trajectory_earth[32:]\n",
    "new_earth_2 = trajectory_earth[0:32]\n",
    "final_trajectory_earth = new_earth_1 + new_earth_2\n",
    "\n",
    "new_venus_1 = trajectory_venus[16:]\n",
    "new_venus_2 = trajectory_venus[0:16]\n",
    "final_trajectory_venus = new_venus_1 + new_venus_2 + new_venus_1 + new_venus_2\n"
   ]
  },
  {
   "attachments": {},
   "cell_type": "markdown",
   "metadata": {},
   "source": [
    "### Adding the planets"
   ]
  },
  {
   "cell_type": "code",
   "execution_count": 273,
   "metadata": {},
   "outputs": [],
   "source": [
    "earth = Planet(name=\"earth\", starting_position=np.array([0, 4.8]), trajectory=final_trajectory_earth)\n",
    "venus = Planet(name=\"venus\", starting_position=np.array([0, 8.9]), trajectory=final_trajectory_venus)"
   ]
  },
  {
   "cell_type": "code",
   "execution_count": 280,
   "metadata": {},
   "outputs": [
    {
     "data": {
      "text/plain": [
       "{'venus': 4.28000020980835}"
      ]
     },
     "execution_count": 280,
     "metadata": {},
     "output_type": "execute_result"
    }
   ],
   "source": [
    "earth.get_distance_to_other_planets()"
   ]
  },
  {
   "cell_type": "code",
   "execution_count": 279,
   "metadata": {},
   "outputs": [],
   "source": [
    "\n"
   ]
  },
  {
   "attachments": {},
   "cell_type": "markdown",
   "metadata": {},
   "source": [
    "### Setting up test env\n",
    "\n",
    "The observation space is a box of of dimension (2, 4) - two rows and four columns.<br>\n",
    "The rows represent planets, and the columns represent:<br>\n",
    "\n",
    "0. planet position, x-coordinate\n",
    "1. planet position, y-coordinate\n",
    "2. distance to nearest planet\n",
    "3. distance to ideal position\n",
    "\n",
    "The state of the environment is a (2, 4) np.array matching the observation space described above"
   ]
  },
  {
   "cell_type": "code",
   "execution_count": 399,
   "metadata": {},
   "outputs": [],
   "source": [
    "class spaceEnv(Env):\n",
    "    metadata = {\"render_modes\": [\"human\", \"rgb_array\"], \"render_fps\": 1}\n",
    "    \n",
    "    def __init__(self, planets: List[Planet]) -> None:\n",
    "        self.action_space = MultiDiscrete([3, 3])\n",
    "        self.observation_space = Box(low=-100.0, high=100.0, shape=(2, 4), dtype=np.float32)\n",
    "        #set starting state\n",
    "        self.state: np.ndarray = np.array(\n",
    "                        [\n",
    "                    [0.0, 4.8, 4.1, 0.0],\n",
    "                    [0.0, 8.9 , 4.1, 0.0]          \n",
    "                ], dtype=np.float32\n",
    "            )\n",
    "        self.planets = planets\n",
    "        self.current_step = 0\n",
    "        self.window = None\n",
    "        self.clock = None\n",
    "    \n",
    "    def step(self, action: np.ndarray):\n",
    "        self.state = self.calculate_state(action)\n",
    "        obs: np.ndarray = self.state\n",
    "        reward = self.calculate_reward()\n",
    "        self.current_step+=1\n",
    "        self.update_planet_steps()\n",
    "        done = self.is_done()\n",
    "        info = {\n",
    "            \"venus\": {\n",
    "                \"name\": self.planets[0].name,\n",
    "                \"position\": self.planets[0].position,\n",
    "                \"distance_to_nearest\": self.planets[0].distance_to_nearest_planet,\n",
    "                \"deviation\": self.planets[0].deviation,\n",
    "                \"current_step\": self.planets[0].current_step\n",
    "            },\n",
    "    \n",
    "            \"earth\": {\n",
    "                \"name\": self.planets[1].name,\n",
    "                \"position\": self.planets[1].position,\n",
    "                \"distance_to_nearest\": self.planets[1].distance_to_nearest_planet,\n",
    "                \"deviation\": self.planets[1].deviation,\n",
    "                \"current_step\": self.planets[1].current_step\n",
    "            }, \n",
    "            \"step no\": self.current_step\n",
    "        }\n",
    "\n",
    "        return obs, reward, done, info\n",
    "\n",
    "    def render(self):\n",
    "        pass\n",
    "    \n",
    "    def reset(self):\n",
    "        self.state: np.ndarray = np.array(\n",
    "                        [\n",
    "                    [0.0, 4.8, 4.1, 0.0],\n",
    "                    [0.0, 8.9 , 4.1, 0.0]            \n",
    "                ],\n",
    "                dtype=np.float32\n",
    "            )\n",
    "        self.current_step = 0\n",
    "        for planet in self.planets:\n",
    "            planet.position = planet.starting_position\n",
    "            planet.deviation = 0.0\n",
    "        return self.state\n",
    "\n",
    "    def calculate_reward(self):\n",
    "        reward = 0\n",
    "        for planet in self.planets:\n",
    "            if np.abs(planet.distance_to_nearest_planet) > 5:\n",
    "                reward+=0\n",
    "                #print(\"distance_greater than five\")\n",
    "            else:\n",
    "                reward-=planet.distance_to_nearest_planet\n",
    "                #print(\"distance less than five\")\n",
    "                #print(f\"distanceto_idealposition for {planet} is {planet.distance_to_ideal_position}\")\n",
    "            if np.abs(planet.distance_to_ideal_position) > 0:\n",
    "                reward-=np.abs(planet.distance_to_ideal_position)\n",
    "                #print(\"distance to ideal less than five\")\n",
    "            else:\n",
    "                reward+=1\n",
    "            if np.abs(planet.distance_to_nearest_planet) < 0.1:\n",
    "                print(\"collision\")\n",
    "                reward-=100\n",
    "                \n",
    "        return reward\n",
    "\n",
    "    def calculate_state(self, action: np.ndarray) -> np.ndarray:\n",
    "        positions = []\n",
    "        for action_number, planet in enumerate(self.planets):\n",
    "            planet.update_position(action[action_number])\n",
    "            positions.append(planet.position)\n",
    "            planet.update_current_step()\n",
    "\n",
    "        distances = []\n",
    "        for planet in self.planets:\n",
    "            distance_to_nearest_planet: np.float32 = min(planet.get_distance_to_other_planets().values())      \n",
    "            planet.distance_to_nearest_planet = distance_to_nearest_planet\n",
    "            distance_to_ideal_position = planet.get_distance_to_ideal_position()\n",
    "            distances.append([\n",
    "                distance_to_nearest_planet,\n",
    "                distance_to_ideal_position\n",
    "            ])\n",
    "        \n",
    "        state_list = []\n",
    "        for i in range(len(self.planets)):\n",
    "            row = [positions[i][0], positions[i][1], distances[i][0], distances[i][1]]\n",
    "            state_list.append(row)\n",
    "        \n",
    "        return np.array(state_list, dtype=np.float32)\n",
    "    \n",
    "    def update_planet_steps(self):\n",
    "        for planet in self.planets:\n",
    "            if planet.current_step < len(planet.trajectory) - 1:\n",
    "                planet.current_step = self.current_step\n",
    "    \n",
    "    def is_done(self):\n",
    "        if self.current_step==127:\n",
    "            done = True\n",
    "        else:\n",
    "            done = False\n",
    "        return done\n",
    "        \n",
    "    "
   ]
  },
  {
   "attachments": {},
   "cell_type": "markdown",
   "metadata": {},
   "source": [
    "### Test env"
   ]
  },
  {
   "cell_type": "code",
   "execution_count": 278,
   "metadata": {},
   "outputs": [
    {
     "data": {
      "text/plain": [
       "{}"
      ]
     },
     "execution_count": 278,
     "metadata": {},
     "output_type": "execute_result"
    }
   ],
   "source": [
    "earth.get_distance_to_other_planets()"
   ]
  },
  {
   "cell_type": "code",
   "execution_count": 347,
   "metadata": {},
   "outputs": [
    {
     "name": "stdout",
     "output_type": "stream",
     "text": [
      "0\n",
      "1\n"
     ]
    }
   ],
   "source": [
    "for action, planet in enumerate(planets):\n",
    "    print(action)"
   ]
  },
  {
   "cell_type": "code",
   "execution_count": 400,
   "metadata": {},
   "outputs": [
    {
     "data": {
      "text/plain": [
       "array([[0. , 4.8, 4.1, 0. ],\n",
       "       [0. , 8.9, 4.1, 0. ]], dtype=float32)"
      ]
     },
     "execution_count": 400,
     "metadata": {},
     "output_type": "execute_result"
    }
   ],
   "source": [
    "planets = [earth, venus]\n",
    "\n",
    "earth.set_other_planets(planets)\n",
    "venus.set_other_planets(planets)\n",
    "\n",
    "env = spaceEnv(planets=[venus, earth])\n",
    "env.reset()"
   ]
  },
  {
   "cell_type": "code",
   "execution_count": 401,
   "metadata": {},
   "outputs": [
    {
     "name": "stderr",
     "output_type": "stream",
     "text": [
      "c:\\Users\\Marti\\astroClock\\astro\\lib\\site-packages\\stable_baselines3\\common\\env_checker.py:190: UserWarning: Your observation  has an unconventional shape (neither an image, nor a 1D vector). We recommend you to flatten the observation to have only a 1D vector or use a custom policy to properly process the data.\n",
      "  warnings.warn(\n"
     ]
    }
   ],
   "source": [
    "check_env(env, warn=True)"
   ]
  },
  {
   "cell_type": "code",
   "execution_count": 349,
   "metadata": {},
   "outputs": [
    {
     "data": {
      "text/plain": [
       "numpy.ndarray"
      ]
     },
     "execution_count": 349,
     "metadata": {},
     "output_type": "execute_result"
    }
   ],
   "source": [
    "type(env.action_space.sample())"
   ]
  },
  {
   "cell_type": "code",
   "execution_count": null,
   "metadata": {},
   "outputs": [],
   "source": [
    "episodes = 5\n",
    "for episode in range(1, episodes+1):\n",
    "    state = env.reset()\n",
    "    done = False\n",
    "    score = 0 \n",
    "    \n",
    "    while not done:\n",
    "        #env.render()\n",
    "        action = env.action_space.sample()\n",
    "        n_state, reward, done, info = env.step(action)\n",
    "        score+=reward\n",
    "    print('Episode:{} Score:{} info{}'.format(episode, score, info))\n",
    "env.close()"
   ]
  },
  {
   "cell_type": "code",
   "execution_count": 340,
   "metadata": {},
   "outputs": [
    {
     "data": {
      "text/plain": [
       "array([8.  , 7.71])"
      ]
     },
     "execution_count": 340,
     "metadata": {},
     "output_type": "execute_result"
    }
   ],
   "source": [
    "venus.trajectory[8]"
   ]
  },
  {
   "cell_type": "code",
   "execution_count": 371,
   "metadata": {},
   "outputs": [
    {
     "data": {
      "text/plain": [
       "array([14.  ,  4.31])"
      ]
     },
     "execution_count": 371,
     "metadata": {},
     "output_type": "execute_result"
    }
   ],
   "source": [
    "venus.trajectory[14]"
   ]
  },
  {
   "cell_type": "code",
   "execution_count": 411,
   "metadata": {},
   "outputs": [
    {
     "data": {
      "text/plain": [
       "array([[0. , 4.8, 4.1, 0. ],\n",
       "       [0. , 8.9, 4.1, 0. ]], dtype=float32)"
      ]
     },
     "execution_count": 411,
     "metadata": {},
     "output_type": "execute_result"
    }
   ],
   "source": [
    "env.reset()"
   ]
  },
  {
   "cell_type": "code",
   "execution_count": 398,
   "metadata": {},
   "outputs": [
    {
     "data": {
      "text/plain": [
       "-13.999999999999966"
      ]
     },
     "execution_count": 398,
     "metadata": {},
     "output_type": "execute_result"
    }
   ],
   "source": [
    "earth.deviation\n"
   ]
  },
  {
   "cell_type": "code",
   "execution_count": 444,
   "metadata": {},
   "outputs": [
    {
     "data": {
      "text/plain": [
       "(array([[33.  , -8.88,  7.69, 34.  ],\n",
       "        [33.  , -1.19,  7.69,  2.  ]], dtype=float32),\n",
       " 2,\n",
       " False,\n",
       " {'venus': {'name': 'venus',\n",
       "   'position': array([33.  , -8.88], dtype=float32),\n",
       "   'distance_to_nearest': 7.690000057220459,\n",
       "   'deviation': 0.0,\n",
       "   'current_step': 33},\n",
       "  'earth': {'name': 'earth',\n",
       "   'position': array([33.  , -1.19], dtype=float32),\n",
       "   'distance_to_nearest': 7.690000057220459,\n",
       "   'deviation': 0.0,\n",
       "   'current_step': 33},\n",
       "  'step no': 33})"
      ]
     },
     "execution_count": 444,
     "metadata": {},
     "output_type": "execute_result"
    }
   ],
   "source": [
    "env.step([0, 0])"
   ]
  }
 ],
 "metadata": {
  "kernelspec": {
   "display_name": "astro",
   "language": "python",
   "name": "python3"
  },
  "language_info": {
   "codemirror_mode": {
    "name": "ipython",
    "version": 3
   },
   "file_extension": ".py",
   "mimetype": "text/x-python",
   "name": "python",
   "nbconvert_exporter": "python",
   "pygments_lexer": "ipython3",
   "version": "3.9.7"
  },
  "orig_nbformat": 4,
  "vscode": {
   "interpreter": {
    "hash": "e57d3ece2c9b1b7e3ce02a3003ba13097bb65062e3c0dad712d437bcf97ad825"
   }
  }
 },
 "nbformat": 4,
 "nbformat_minor": 2
}
