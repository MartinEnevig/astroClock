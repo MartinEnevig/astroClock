{
 "cells": [
  {
   "cell_type": "code",
   "execution_count": 1,
   "metadata": {},
   "outputs": [
    {
     "name": "stderr",
     "output_type": "stream",
     "text": [
      "c:\\Users\\Marti\\astroClock\\astro\\lib\\site-packages\\tqdm\\auto.py:21: TqdmWarning: IProgress not found. Please update jupyter and ipywidgets. See https://ipywidgets.readthedocs.io/en/stable/user_install.html\n",
      "  from .autonotebook import tqdm as notebook_tqdm\n"
     ]
    }
   ],
   "source": [
    "import gym\n",
    "from stable_baselines3 import PPO\n",
    "from itertools import product, repeat\n",
    "import numpy as np"
   ]
  },
  {
   "cell_type": "code",
   "execution_count": 2,
   "metadata": {},
   "outputs": [],
   "source": [
    "\n",
    "#generate the action space\n",
    "actions = (0, 1, 2,)\n",
    "number_of_planets = 8\n",
    "action_space = sorted([list(n) for n in product(*repeat(actions, number_of_planets))])"
   ]
  },
  {
   "cell_type": "code",
   "execution_count": 20,
   "metadata": {},
   "outputs": [],
   "source": [
    "def get_point(x: float, h: float, w: float) -> np.array:\n",
    "    root_number = 1-(x**2/w**2)\n",
    "    print(f\"this is x: {x} and this is root: {root_number}\")\n",
    "    if root_number < 0:\n",
    "        root_number*-1\n",
    "        y = h*np.sqrt(root_number)\n",
    "        return np.array([x, -y])\n",
    "    else:\n",
    "        y = h*np.sqrt(root_number)\n",
    "        return np.array([x, y]) "
   ]
  },
  {
   "cell_type": "code",
   "execution_count": null,
   "metadata": {},
   "outputs": [],
   "source": []
  },
  {
   "attachments": {},
   "cell_type": "markdown",
   "metadata": {},
   "source": [
    "### Dummy trajectories for creating a test env"
   ]
  },
  {
   "cell_type": "code",
   "execution_count": null,
   "metadata": {},
   "outputs": [],
   "source": [
    "h_1 = 5\n",
    "w_1 = 30\n",
    "trajectory_1 = []\n",
    "for i in range(-30,31):\n",
    "    trajectory_1.append(get_point(x=i, h=h_1, w=w_1))"
   ]
  },
  {
   "cell_type": "code",
   "execution_count": 93,
   "metadata": {},
   "outputs": [],
   "source": [
    "\n",
    "trajectory_1_final = trajectory_1.copy()\n",
    "for el in trajectory_1:\n",
    "    if el[0]==30 or el[0]==-30:\n",
    "        continue\n",
    "    else:\n",
    "        trajectory_1_final.append(np.array([-el[0], -el[1]]))\n",
    "    "
   ]
  },
  {
   "cell_type": "code",
   "execution_count": null,
   "metadata": {},
   "outputs": [],
   "source": [
    "h_2 = 10\n",
    "w_2 = 15\n",
    "trajectory_2 = []\n",
    "for i in range(-30,31\n",
    "               ):\n",
    "    trajectory_2.append(get_point(x=i/2, h=h_2, w=w_2))"
   ]
  },
  {
   "cell_type": "code",
   "execution_count": 100,
   "metadata": {},
   "outputs": [],
   "source": [
    "trajectory_2_final = trajectory_2.copy()\n",
    "for el in trajectory_2:\n",
    "    if el[0]==15 or el[0]==-15:\n",
    "        continue\n",
    "    else:\n",
    "        trajectory_2_final.append(np.array([-el[0], -el[1]]))"
   ]
  }
 ],
 "metadata": {
  "kernelspec": {
   "display_name": "Python 3.9.7 ('astro': venv)",
   "language": "python",
   "name": "python3"
  },
  "language_info": {
   "codemirror_mode": {
    "name": "ipython",
    "version": 3
   },
   "file_extension": ".py",
   "mimetype": "text/x-python",
   "name": "python",
   "nbconvert_exporter": "python",
   "pygments_lexer": "ipython3",
   "version": "3.9.7"
  },
  "orig_nbformat": 4,
  "vscode": {
   "interpreter": {
    "hash": "e57d3ece2c9b1b7e3ce02a3003ba13097bb65062e3c0dad712d437bcf97ad825"
   }
  }
 },
 "nbformat": 4,
 "nbformat_minor": 2
}
